{
 "cells": [
  {
   "cell_type": "markdown",
   "metadata": {},
   "source": [
    "# Finding Heavy Traffic Indicators on I-94\n",
    "\n",
    "Traffic jams aren't just annoying, they're expensive. Congested highways leach billions of dollars from the U.S Economy each year.  Lost time, wasted fuel, and increased delivery charges are among the many costly drawbacks. One stretch of highway particularly prone to gridlock, Interstate-94 between Minneapolis and St. Paul, Minnesota, sees daily traffic flow in excess of 150,000 trips and 4 hours of congestion. A [study](https://ops.fhwa.dot.gov/freight/freight_analysis/mobility_trends/national_list_2019.htm) by USDOT ranked this stretch of Interstate as the 43rd busiest section of the Interstate system in 2019.   The seventy-year-old highway is in need of reconstruction, and the Minnesota Department of Transportation aims to take this opportunity to fix problems related to air quality issues, congestion and noise pollution.  One proposal seeks to even remove the highway in favor of replacing it with a boulevard in the hopes or restoring predominantly minority neighborhoods that were disrupted when the Interstate was initially built.  \n",
    "\n",
    "The first step in easing traffic woes is understanding its causes.  To this end, we will analyze a [dataset](https://archive.ics.uci.edu/ml/datasets/Metro+Interstate+Traffic+Volume) from the UCI Machine Learning Repository, as made available by John Hogue. The data covers the time period from October 2012 to September 2018, as recorded at a station approximately halfway between Minneapolis and Saint Paul. The data is for westbound traffic only, so we won't be able to compare it with eastbound traffic. Our analysis will focus on how time and weather factors correlate to increased congestion. "
   ]
  },
  {
   "cell_type": "markdown",
   "metadata": {},
   "source": [
    "# Import libraries"
   ]
  },
  {
   "cell_type": "code",
   "execution_count": 1,
   "metadata": {},
   "outputs": [],
   "source": [
    "import numpy as np\n",
    "import pandas as pd\n",
    "import datetime as dt\n",
    "\n",
    "import matplotlib.pyplot as plt\n",
    "import seaborn as sns\n",
    "\n",
    "%matplotlib inline"
   ]
  },
  {
   "cell_type": "markdown",
   "metadata": {},
   "source": [
    "# Import the Data\n",
    "\n",
    "The dataset has already been downloaded, we'll import it from the .csv file"
   ]
  },
  {
   "cell_type": "code",
   "execution_count": 2,
   "metadata": {},
   "outputs": [],
   "source": [
    "traffic = pd.read_csv('Metro_Interstate_Traffic_Volume.csv',index_col = 'date_time')\n",
    "# make datetime index a column\n",
    "traffic.reset_index(inplace = True)"
   ]
  },
  {
   "cell_type": "markdown",
   "metadata": {},
   "source": [
    "## Overview of the Data"
   ]
  },
  {
   "cell_type": "code",
   "execution_count": 3,
   "metadata": {},
   "outputs": [
    {
     "data": {
      "text/html": [
       "<div>\n",
       "<style scoped>\n",
       "    .dataframe tbody tr th:only-of-type {\n",
       "        vertical-align: middle;\n",
       "    }\n",
       "\n",
       "    .dataframe tbody tr th {\n",
       "        vertical-align: top;\n",
       "    }\n",
       "\n",
       "    .dataframe thead th {\n",
       "        text-align: right;\n",
       "    }\n",
       "</style>\n",
       "<table border=\"1\" class=\"dataframe\">\n",
       "  <thead>\n",
       "    <tr style=\"text-align: right;\">\n",
       "      <th></th>\n",
       "      <th>date_time</th>\n",
       "      <th>holiday</th>\n",
       "      <th>temp</th>\n",
       "      <th>rain_1h</th>\n",
       "      <th>snow_1h</th>\n",
       "      <th>clouds_all</th>\n",
       "      <th>weather_main</th>\n",
       "      <th>weather_description</th>\n",
       "      <th>traffic_volume</th>\n",
       "    </tr>\n",
       "  </thead>\n",
       "  <tbody>\n",
       "    <tr>\n",
       "      <th>0</th>\n",
       "      <td>2012-10-02 09:00:00</td>\n",
       "      <td>None</td>\n",
       "      <td>288.28</td>\n",
       "      <td>0.0</td>\n",
       "      <td>0.0</td>\n",
       "      <td>40</td>\n",
       "      <td>Clouds</td>\n",
       "      <td>scattered clouds</td>\n",
       "      <td>5545</td>\n",
       "    </tr>\n",
       "    <tr>\n",
       "      <th>1</th>\n",
       "      <td>2012-10-02 10:00:00</td>\n",
       "      <td>None</td>\n",
       "      <td>289.36</td>\n",
       "      <td>0.0</td>\n",
       "      <td>0.0</td>\n",
       "      <td>75</td>\n",
       "      <td>Clouds</td>\n",
       "      <td>broken clouds</td>\n",
       "      <td>4516</td>\n",
       "    </tr>\n",
       "    <tr>\n",
       "      <th>2</th>\n",
       "      <td>2012-10-02 11:00:00</td>\n",
       "      <td>None</td>\n",
       "      <td>289.58</td>\n",
       "      <td>0.0</td>\n",
       "      <td>0.0</td>\n",
       "      <td>90</td>\n",
       "      <td>Clouds</td>\n",
       "      <td>overcast clouds</td>\n",
       "      <td>4767</td>\n",
       "    </tr>\n",
       "    <tr>\n",
       "      <th>3</th>\n",
       "      <td>2012-10-02 12:00:00</td>\n",
       "      <td>None</td>\n",
       "      <td>290.13</td>\n",
       "      <td>0.0</td>\n",
       "      <td>0.0</td>\n",
       "      <td>90</td>\n",
       "      <td>Clouds</td>\n",
       "      <td>overcast clouds</td>\n",
       "      <td>5026</td>\n",
       "    </tr>\n",
       "    <tr>\n",
       "      <th>4</th>\n",
       "      <td>2012-10-02 13:00:00</td>\n",
       "      <td>None</td>\n",
       "      <td>291.14</td>\n",
       "      <td>0.0</td>\n",
       "      <td>0.0</td>\n",
       "      <td>75</td>\n",
       "      <td>Clouds</td>\n",
       "      <td>broken clouds</td>\n",
       "      <td>4918</td>\n",
       "    </tr>\n",
       "  </tbody>\n",
       "</table>\n",
       "</div>"
      ],
      "text/plain": [
       "             date_time holiday    temp  rain_1h  snow_1h  clouds_all  \\\n",
       "0  2012-10-02 09:00:00    None  288.28      0.0      0.0          40   \n",
       "1  2012-10-02 10:00:00    None  289.36      0.0      0.0          75   \n",
       "2  2012-10-02 11:00:00    None  289.58      0.0      0.0          90   \n",
       "3  2012-10-02 12:00:00    None  290.13      0.0      0.0          90   \n",
       "4  2012-10-02 13:00:00    None  291.14      0.0      0.0          75   \n",
       "\n",
       "  weather_main weather_description  traffic_volume  \n",
       "0       Clouds    scattered clouds            5545  \n",
       "1       Clouds       broken clouds            4516  \n",
       "2       Clouds     overcast clouds            4767  \n",
       "3       Clouds     overcast clouds            5026  \n",
       "4       Clouds       broken clouds            4918  "
      ]
     },
     "execution_count": 3,
     "metadata": {},
     "output_type": "execute_result"
    }
   ],
   "source": [
    "traffic.head()"
   ]
  },
  {
   "cell_type": "code",
   "execution_count": 4,
   "metadata": {},
   "outputs": [
    {
     "name": "stdout",
     "output_type": "stream",
     "text": [
      "<class 'pandas.core.frame.DataFrame'>\n",
      "RangeIndex: 48204 entries, 0 to 48203\n",
      "Data columns (total 9 columns):\n",
      " #   Column               Non-Null Count  Dtype  \n",
      "---  ------               --------------  -----  \n",
      " 0   date_time            48204 non-null  object \n",
      " 1   holiday              48204 non-null  object \n",
      " 2   temp                 48204 non-null  float64\n",
      " 3   rain_1h              48204 non-null  float64\n",
      " 4   snow_1h              48204 non-null  float64\n",
      " 5   clouds_all           48204 non-null  int64  \n",
      " 6   weather_main         48204 non-null  object \n",
      " 7   weather_description  48204 non-null  object \n",
      " 8   traffic_volume       48204 non-null  int64  \n",
      "dtypes: float64(3), int64(2), object(4)\n",
      "memory usage: 3.3+ MB\n"
     ]
    }
   ],
   "source": [
    "traffic.info()"
   ]
  },
  {
   "cell_type": "markdown",
   "metadata": {},
   "source": [
    "We have 9 columns, all related to traffic volume, date/time/holiday and meteorological data.  The documentation gives us definitions for each of the columns:\n",
    "- holiday: Categorical US National holidays plus regional holiday, Minnesota State Fair\n",
    "- temp: Numeric Average temp in kelvin\n",
    "- rain:_1h Numeric Amount in mm of rain that occurred in the hour\n",
    "- snow_1h: Numeric Amount in mm of snow that occurred in the hour\n",
    "- clouds_all: Numeric Percentage of cloud cover\n",
    "- weather_main: Categorical Short textual description of the current weather\n",
    "- weather_description: Categorical Longer textual description of the current weather\n",
    "- date_time: DateTime Hour of the data collected in local CST time\n",
    "- traffic_volume: Numeric Hourly I-94 ATR 301 reported westbound traffic volume"
   ]
  },
  {
   "cell_type": "markdown",
   "metadata": {},
   "source": [
    "# Formating columns\n",
    "\n",
    "All of the numeric columns are numeric types, but `date_time` is an object type.  It will be easier to work with as a datetime type. while we're at it, let's create year, month, day, and day of week columns to make working with dates easier. "
   ]
  },
  {
   "cell_type": "code",
   "execution_count": 25,
   "metadata": {},
   "outputs": [
    {
     "data": {
      "text/html": [
       "<div>\n",
       "<style scoped>\n",
       "    .dataframe tbody tr th:only-of-type {\n",
       "        vertical-align: middle;\n",
       "    }\n",
       "\n",
       "    .dataframe tbody tr th {\n",
       "        vertical-align: top;\n",
       "    }\n",
       "\n",
       "    .dataframe thead th {\n",
       "        text-align: right;\n",
       "    }\n",
       "</style>\n",
       "<table border=\"1\" class=\"dataframe\">\n",
       "  <thead>\n",
       "    <tr style=\"text-align: right;\">\n",
       "      <th></th>\n",
       "      <th>date_time</th>\n",
       "      <th>holiday</th>\n",
       "      <th>temp</th>\n",
       "      <th>rain_1h</th>\n",
       "      <th>snow_1h</th>\n",
       "      <th>clouds_all</th>\n",
       "      <th>weather_main</th>\n",
       "      <th>weather_description</th>\n",
       "      <th>traffic_volume</th>\n",
       "      <th>year</th>\n",
       "      <th>month</th>\n",
       "      <th>day</th>\n",
       "      <th>day_of_week</th>\n",
       "    </tr>\n",
       "  </thead>\n",
       "  <tbody>\n",
       "    <tr>\n",
       "      <th>0</th>\n",
       "      <td>2012-10-02 09:00:00</td>\n",
       "      <td>None</td>\n",
       "      <td>288.28</td>\n",
       "      <td>0.0</td>\n",
       "      <td>0.0</td>\n",
       "      <td>40</td>\n",
       "      <td>Clouds</td>\n",
       "      <td>scattered clouds</td>\n",
       "      <td>5545</td>\n",
       "      <td>2012</td>\n",
       "      <td>10</td>\n",
       "      <td>2</td>\n",
       "      <td>1</td>\n",
       "    </tr>\n",
       "    <tr>\n",
       "      <th>1</th>\n",
       "      <td>2012-10-02 10:00:00</td>\n",
       "      <td>None</td>\n",
       "      <td>289.36</td>\n",
       "      <td>0.0</td>\n",
       "      <td>0.0</td>\n",
       "      <td>75</td>\n",
       "      <td>Clouds</td>\n",
       "      <td>broken clouds</td>\n",
       "      <td>4516</td>\n",
       "      <td>2012</td>\n",
       "      <td>10</td>\n",
       "      <td>2</td>\n",
       "      <td>1</td>\n",
       "    </tr>\n",
       "    <tr>\n",
       "      <th>2</th>\n",
       "      <td>2012-10-02 11:00:00</td>\n",
       "      <td>None</td>\n",
       "      <td>289.58</td>\n",
       "      <td>0.0</td>\n",
       "      <td>0.0</td>\n",
       "      <td>90</td>\n",
       "      <td>Clouds</td>\n",
       "      <td>overcast clouds</td>\n",
       "      <td>4767</td>\n",
       "      <td>2012</td>\n",
       "      <td>10</td>\n",
       "      <td>2</td>\n",
       "      <td>1</td>\n",
       "    </tr>\n",
       "    <tr>\n",
       "      <th>3</th>\n",
       "      <td>2012-10-02 12:00:00</td>\n",
       "      <td>None</td>\n",
       "      <td>290.13</td>\n",
       "      <td>0.0</td>\n",
       "      <td>0.0</td>\n",
       "      <td>90</td>\n",
       "      <td>Clouds</td>\n",
       "      <td>overcast clouds</td>\n",
       "      <td>5026</td>\n",
       "      <td>2012</td>\n",
       "      <td>10</td>\n",
       "      <td>2</td>\n",
       "      <td>1</td>\n",
       "    </tr>\n",
       "    <tr>\n",
       "      <th>4</th>\n",
       "      <td>2012-10-02 13:00:00</td>\n",
       "      <td>None</td>\n",
       "      <td>291.14</td>\n",
       "      <td>0.0</td>\n",
       "      <td>0.0</td>\n",
       "      <td>75</td>\n",
       "      <td>Clouds</td>\n",
       "      <td>broken clouds</td>\n",
       "      <td>4918</td>\n",
       "      <td>2012</td>\n",
       "      <td>10</td>\n",
       "      <td>2</td>\n",
       "      <td>1</td>\n",
       "    </tr>\n",
       "  </tbody>\n",
       "</table>\n",
       "</div>"
      ],
      "text/plain": [
       "            date_time holiday    temp  rain_1h  snow_1h  clouds_all  \\\n",
       "0 2012-10-02 09:00:00    None  288.28      0.0      0.0          40   \n",
       "1 2012-10-02 10:00:00    None  289.36      0.0      0.0          75   \n",
       "2 2012-10-02 11:00:00    None  289.58      0.0      0.0          90   \n",
       "3 2012-10-02 12:00:00    None  290.13      0.0      0.0          90   \n",
       "4 2012-10-02 13:00:00    None  291.14      0.0      0.0          75   \n",
       "\n",
       "  weather_main weather_description  traffic_volume  year  month  day  \\\n",
       "0       Clouds    scattered clouds            5545  2012     10    2   \n",
       "1       Clouds       broken clouds            4516  2012     10    2   \n",
       "2       Clouds     overcast clouds            4767  2012     10    2   \n",
       "3       Clouds     overcast clouds            5026  2012     10    2   \n",
       "4       Clouds       broken clouds            4918  2012     10    2   \n",
       "\n",
       "   day_of_week  \n",
       "0            1  \n",
       "1            1  \n",
       "2            1  \n",
       "3            1  \n",
       "4            1  "
      ]
     },
     "execution_count": 25,
     "metadata": {},
     "output_type": "execute_result"
    }
   ],
   "source": [
    "# Convert date_time to datetime format\n",
    "traffic['date_time'] = pd.to_datetime(traffic['date_time'])\n",
    "\n",
    "traffic['year'] = traffic['date_time'].dt.year\n",
    "traffic['month'] = traffic['date_time'].dt.month\n",
    "traffic['day'] = traffic['date_time'].dt.day\n",
    "traffic['day_of_week'] = traffic['date_time'].dt.weekday\n",
    "\n",
    "traffic.head()\n"
   ]
  },
  {
   "cell_type": "markdown",
   "metadata": {},
   "source": [
    "# Finding flawed values and outliers\n",
    "\n",
    "\n",
    "We know from running `'traffic.info()` there are no NA values, but what about invalid or suspicious data?\n",
    "## Numeric Columns"
   ]
  },
  {
   "cell_type": "code",
   "execution_count": 6,
   "metadata": {},
   "outputs": [
    {
     "data": {
      "text/html": [
       "<div>\n",
       "<style scoped>\n",
       "    .dataframe tbody tr th:only-of-type {\n",
       "        vertical-align: middle;\n",
       "    }\n",
       "\n",
       "    .dataframe tbody tr th {\n",
       "        vertical-align: top;\n",
       "    }\n",
       "\n",
       "    .dataframe thead th {\n",
       "        text-align: right;\n",
       "    }\n",
       "</style>\n",
       "<table border=\"1\" class=\"dataframe\">\n",
       "  <thead>\n",
       "    <tr style=\"text-align: right;\">\n",
       "      <th></th>\n",
       "      <th>temp</th>\n",
       "      <th>rain_1h</th>\n",
       "      <th>snow_1h</th>\n",
       "      <th>clouds_all</th>\n",
       "      <th>traffic_volume</th>\n",
       "    </tr>\n",
       "  </thead>\n",
       "  <tbody>\n",
       "    <tr>\n",
       "      <th>count</th>\n",
       "      <td>48204.000000</td>\n",
       "      <td>48204.000000</td>\n",
       "      <td>48204.000000</td>\n",
       "      <td>48204.000000</td>\n",
       "      <td>48204.000000</td>\n",
       "    </tr>\n",
       "    <tr>\n",
       "      <th>mean</th>\n",
       "      <td>281.205870</td>\n",
       "      <td>0.334264</td>\n",
       "      <td>0.000222</td>\n",
       "      <td>49.362231</td>\n",
       "      <td>3259.818355</td>\n",
       "    </tr>\n",
       "    <tr>\n",
       "      <th>std</th>\n",
       "      <td>13.338232</td>\n",
       "      <td>44.789133</td>\n",
       "      <td>0.008168</td>\n",
       "      <td>39.015750</td>\n",
       "      <td>1986.860670</td>\n",
       "    </tr>\n",
       "    <tr>\n",
       "      <th>min</th>\n",
       "      <td>0.000000</td>\n",
       "      <td>0.000000</td>\n",
       "      <td>0.000000</td>\n",
       "      <td>0.000000</td>\n",
       "      <td>0.000000</td>\n",
       "    </tr>\n",
       "    <tr>\n",
       "      <th>25%</th>\n",
       "      <td>272.160000</td>\n",
       "      <td>0.000000</td>\n",
       "      <td>0.000000</td>\n",
       "      <td>1.000000</td>\n",
       "      <td>1193.000000</td>\n",
       "    </tr>\n",
       "    <tr>\n",
       "      <th>50%</th>\n",
       "      <td>282.450000</td>\n",
       "      <td>0.000000</td>\n",
       "      <td>0.000000</td>\n",
       "      <td>64.000000</td>\n",
       "      <td>3380.000000</td>\n",
       "    </tr>\n",
       "    <tr>\n",
       "      <th>75%</th>\n",
       "      <td>291.806000</td>\n",
       "      <td>0.000000</td>\n",
       "      <td>0.000000</td>\n",
       "      <td>90.000000</td>\n",
       "      <td>4933.000000</td>\n",
       "    </tr>\n",
       "    <tr>\n",
       "      <th>max</th>\n",
       "      <td>310.070000</td>\n",
       "      <td>9831.300000</td>\n",
       "      <td>0.510000</td>\n",
       "      <td>100.000000</td>\n",
       "      <td>7280.000000</td>\n",
       "    </tr>\n",
       "  </tbody>\n",
       "</table>\n",
       "</div>"
      ],
      "text/plain": [
       "               temp       rain_1h       snow_1h    clouds_all  traffic_volume\n",
       "count  48204.000000  48204.000000  48204.000000  48204.000000    48204.000000\n",
       "mean     281.205870      0.334264      0.000222     49.362231     3259.818355\n",
       "std       13.338232     44.789133      0.008168     39.015750     1986.860670\n",
       "min        0.000000      0.000000      0.000000      0.000000        0.000000\n",
       "25%      272.160000      0.000000      0.000000      1.000000     1193.000000\n",
       "50%      282.450000      0.000000      0.000000     64.000000     3380.000000\n",
       "75%      291.806000      0.000000      0.000000     90.000000     4933.000000\n",
       "max      310.070000   9831.300000      0.510000    100.000000     7280.000000"
      ]
     },
     "execution_count": 6,
     "metadata": {},
     "output_type": "execute_result"
    }
   ],
   "source": [
    "traffic.describe()"
   ]
  },
  {
   "cell_type": "code",
   "execution_count": null,
   "metadata": {},
   "outputs": [],
   "source": [
    "traffic[traffic['traffic_volume'] == 0]"
   ]
  },
  {
   "cell_type": "markdown",
   "metadata": {},
   "source": [
    "Both were on the same day, Saturday, July 23, 2016. According to [mprnews.com](https://www.mprnews.org/story/2016/07/22/i94-stpaul-shutdown-twin-cities-weekend-road-woes), There was major construction with highway shutdowns and lane closures between July 22 and 24 of that year, so zero cars for some hours is not inconceivable.  But what about the other values?"
   ]
  },
  {
   "cell_type": "markdown",
   "metadata": {},
   "source": [
    "### Max and Min values:\n",
    "temp: 0 Kelvin - 310 Kelvin (-273.15 ° - 36.85°C/ -459.67 °F - 98.33 °).  \n",
    "- The top end is reasonable, but 0 Kelvin is absolute zero and probably a mistake. It doesn't get that cold on Earth.\n",
    "\n",
    "rain_1h: 0 - 9831 mm/hr (0-387 in/hr)\n",
    " - Zero rain is possible, but 387 inches is 37 feet. It's unlikely this happened. \n",
    " \n",
    "snow_1h:  0 - .51 mm/hr (0-.021 in/hr)\n",
    "- \n",
    "\n",
    "clouds_all: 0 % - 100 %\n",
    "- All reasonable values\n",
    "\n",
    "traffic_volume : 0 to 7280 VPH\n",
    "- 0 vehicles per hour might be reasonable during slow times.  \n",
    "- 7280 per hour: This is approximately 2 vehicles per second.  At peak times, this is possible. \n",
    "\n",
    "### Quartile values\n",
    "\n",
    "The numbers look reasonable except for rain and snow.  It seems like these values should be higher unless we're in an area with a drought. "
   ]
  },
  {
   "cell_type": "code",
   "execution_count": 35,
   "metadata": {},
   "outputs": [
    {
     "data": {
      "text/html": [
       "<div>\n",
       "<style scoped>\n",
       "    .dataframe tbody tr th:only-of-type {\n",
       "        vertical-align: middle;\n",
       "    }\n",
       "\n",
       "    .dataframe tbody tr th {\n",
       "        vertical-align: top;\n",
       "    }\n",
       "\n",
       "    .dataframe thead th {\n",
       "        text-align: right;\n",
       "    }\n",
       "</style>\n",
       "<table border=\"1\" class=\"dataframe\">\n",
       "  <thead>\n",
       "    <tr style=\"text-align: right;\">\n",
       "      <th>month</th>\n",
       "      <th>1</th>\n",
       "      <th>2</th>\n",
       "      <th>3</th>\n",
       "      <th>4</th>\n",
       "      <th>5</th>\n",
       "      <th>6</th>\n",
       "      <th>7</th>\n",
       "      <th>8</th>\n",
       "      <th>9</th>\n",
       "      <th>10</th>\n",
       "      <th>11</th>\n",
       "      <th>12</th>\n",
       "      <th>total</th>\n",
       "      <th>average</th>\n",
       "    </tr>\n",
       "    <tr>\n",
       "      <th>year</th>\n",
       "      <th></th>\n",
       "      <th></th>\n",
       "      <th></th>\n",
       "      <th></th>\n",
       "      <th></th>\n",
       "      <th></th>\n",
       "      <th></th>\n",
       "      <th></th>\n",
       "      <th></th>\n",
       "      <th></th>\n",
       "      <th></th>\n",
       "      <th></th>\n",
       "      <th></th>\n",
       "      <th></th>\n",
       "    </tr>\n",
       "  </thead>\n",
       "  <tbody>\n",
       "    <tr>\n",
       "      <th>2012</th>\n",
       "      <td>NaN</td>\n",
       "      <td>NaN</td>\n",
       "      <td>NaN</td>\n",
       "      <td>NaN</td>\n",
       "      <td>NaN</td>\n",
       "      <td>NaN</td>\n",
       "      <td>NaN</td>\n",
       "      <td>NaN</td>\n",
       "      <td>NaN</td>\n",
       "      <td>0.00</td>\n",
       "      <td>0.00</td>\n",
       "      <td>0.00</td>\n",
       "      <td>0.00</td>\n",
       "      <td>0.00</td>\n",
       "    </tr>\n",
       "    <tr>\n",
       "      <th>2013</th>\n",
       "      <td>0.00</td>\n",
       "      <td>0.00</td>\n",
       "      <td>0.00</td>\n",
       "      <td>0.00</td>\n",
       "      <td>0.00</td>\n",
       "      <td>462.20</td>\n",
       "      <td>375.50</td>\n",
       "      <td>197.84</td>\n",
       "      <td>9.84</td>\n",
       "      <td>117.93</td>\n",
       "      <td>11.24</td>\n",
       "      <td>208.14</td>\n",
       "      <td>1382.69</td>\n",
       "      <td>212.72</td>\n",
       "    </tr>\n",
       "    <tr>\n",
       "      <th>2014</th>\n",
       "      <td>48.44</td>\n",
       "      <td>7.77</td>\n",
       "      <td>45.14</td>\n",
       "      <td>223.19</td>\n",
       "      <td>384.31</td>\n",
       "      <td>321.40</td>\n",
       "      <td>144.81</td>\n",
       "      <td>2.03</td>\n",
       "      <td>NaN</td>\n",
       "      <td>NaN</td>\n",
       "      <td>NaN</td>\n",
       "      <td>NaN</td>\n",
       "      <td>1177.09</td>\n",
       "      <td>261.58</td>\n",
       "    </tr>\n",
       "    <tr>\n",
       "      <th>2015</th>\n",
       "      <td>NaN</td>\n",
       "      <td>NaN</td>\n",
       "      <td>NaN</td>\n",
       "      <td>NaN</td>\n",
       "      <td>NaN</td>\n",
       "      <td>104.47</td>\n",
       "      <td>633.24</td>\n",
       "      <td>418.67</td>\n",
       "      <td>276.39</td>\n",
       "      <td>41.11</td>\n",
       "      <td>0.00</td>\n",
       "      <td>9.52</td>\n",
       "      <td>1483.40</td>\n",
       "      <td>370.85</td>\n",
       "    </tr>\n",
       "    <tr>\n",
       "      <th>2016</th>\n",
       "      <td>0.25</td>\n",
       "      <td>0.00</td>\n",
       "      <td>0.90</td>\n",
       "      <td>135.15</td>\n",
       "      <td>164.05</td>\n",
       "      <td>83.60</td>\n",
       "      <td>10109.60</td>\n",
       "      <td>358.49</td>\n",
       "      <td>230.50</td>\n",
       "      <td>19.23</td>\n",
       "      <td>0.00</td>\n",
       "      <td>0.00</td>\n",
       "      <td>11101.77</td>\n",
       "      <td>1707.96</td>\n",
       "    </tr>\n",
       "    <tr>\n",
       "      <th>2017</th>\n",
       "      <td>0.00</td>\n",
       "      <td>0.00</td>\n",
       "      <td>0.00</td>\n",
       "      <td>0.00</td>\n",
       "      <td>0.00</td>\n",
       "      <td>0.00</td>\n",
       "      <td>0.00</td>\n",
       "      <td>0.00</td>\n",
       "      <td>0.00</td>\n",
       "      <td>0.00</td>\n",
       "      <td>0.00</td>\n",
       "      <td>0.00</td>\n",
       "      <td>0.00</td>\n",
       "      <td>0.00</td>\n",
       "    </tr>\n",
       "    <tr>\n",
       "      <th>2018</th>\n",
       "      <td>0.00</td>\n",
       "      <td>0.00</td>\n",
       "      <td>0.00</td>\n",
       "      <td>0.00</td>\n",
       "      <td>0.00</td>\n",
       "      <td>0.00</td>\n",
       "      <td>0.00</td>\n",
       "      <td>388.77</td>\n",
       "      <td>579.14</td>\n",
       "      <td>NaN</td>\n",
       "      <td>NaN</td>\n",
       "      <td>NaN</td>\n",
       "      <td>967.91</td>\n",
       "      <td>193.58</td>\n",
       "    </tr>\n",
       "  </tbody>\n",
       "</table>\n",
       "</div>"
      ],
      "text/plain": [
       "month      1     2      3       4       5       6         7       8       9  \\\n",
       "year                                                                          \n",
       "2012     NaN   NaN    NaN     NaN     NaN     NaN       NaN     NaN     NaN   \n",
       "2013    0.00  0.00   0.00    0.00    0.00  462.20    375.50  197.84    9.84   \n",
       "2014   48.44  7.77  45.14  223.19  384.31  321.40    144.81    2.03     NaN   \n",
       "2015     NaN   NaN    NaN     NaN     NaN  104.47    633.24  418.67  276.39   \n",
       "2016    0.25  0.00   0.90  135.15  164.05   83.60  10109.60  358.49  230.50   \n",
       "2017    0.00  0.00   0.00    0.00    0.00    0.00      0.00    0.00    0.00   \n",
       "2018    0.00  0.00   0.00    0.00    0.00    0.00      0.00  388.77  579.14   \n",
       "\n",
       "month      10     11      12     total  average  \n",
       "year                                             \n",
       "2012     0.00   0.00    0.00      0.00     0.00  \n",
       "2013   117.93  11.24  208.14   1382.69   212.72  \n",
       "2014      NaN    NaN     NaN   1177.09   261.58  \n",
       "2015    41.11   0.00    9.52   1483.40   370.85  \n",
       "2016    19.23   0.00    0.00  11101.77  1707.96  \n",
       "2017     0.00   0.00    0.00      0.00     0.00  \n",
       "2018      NaN    NaN     NaN    967.91   193.58  "
      ]
     },
     "execution_count": 35,
     "metadata": {},
     "output_type": "execute_result"
    }
   ],
   "source": [
    "rain_pivot = pd.pivot_table(data = traffic,index = 'year',values ='rain_1h',columns = 'month',aggfunc = sum)\n",
    "rain_pivot['total'] = rain_pivot.sum(axis = 1)\n",
    "rain_pivot['average'] = round(rain_pivot.mean(axis = 1),2)\n",
    "rain_pivot"
   ]
  },
  {
   "cell_type": "code",
   "execution_count": 36,
   "metadata": {},
   "outputs": [
    {
     "data": {
      "text/html": [
       "<div>\n",
       "<style scoped>\n",
       "    .dataframe tbody tr th:only-of-type {\n",
       "        vertical-align: middle;\n",
       "    }\n",
       "\n",
       "    .dataframe tbody tr th {\n",
       "        vertical-align: top;\n",
       "    }\n",
       "\n",
       "    .dataframe thead th {\n",
       "        text-align: right;\n",
       "    }\n",
       "</style>\n",
       "<table border=\"1\" class=\"dataframe\">\n",
       "  <thead>\n",
       "    <tr style=\"text-align: right;\">\n",
       "      <th>month</th>\n",
       "      <th>1</th>\n",
       "      <th>2</th>\n",
       "      <th>3</th>\n",
       "      <th>4</th>\n",
       "      <th>5</th>\n",
       "      <th>6</th>\n",
       "      <th>7</th>\n",
       "      <th>8</th>\n",
       "      <th>9</th>\n",
       "      <th>10</th>\n",
       "      <th>11</th>\n",
       "      <th>12</th>\n",
       "      <th>total</th>\n",
       "      <th>average</th>\n",
       "    </tr>\n",
       "    <tr>\n",
       "      <th>year</th>\n",
       "      <th></th>\n",
       "      <th></th>\n",
       "      <th></th>\n",
       "      <th></th>\n",
       "      <th></th>\n",
       "      <th></th>\n",
       "      <th></th>\n",
       "      <th></th>\n",
       "      <th></th>\n",
       "      <th></th>\n",
       "      <th></th>\n",
       "      <th></th>\n",
       "      <th></th>\n",
       "      <th></th>\n",
       "    </tr>\n",
       "  </thead>\n",
       "  <tbody>\n",
       "    <tr>\n",
       "      <th>2012</th>\n",
       "      <td>NaN</td>\n",
       "      <td>NaN</td>\n",
       "      <td>NaN</td>\n",
       "      <td>NaN</td>\n",
       "      <td>NaN</td>\n",
       "      <td>NaN</td>\n",
       "      <td>NaN</td>\n",
       "      <td>NaN</td>\n",
       "      <td>NaN</td>\n",
       "      <td>0.0</td>\n",
       "      <td>0.0</td>\n",
       "      <td>0.00</td>\n",
       "      <td>0.00</td>\n",
       "      <td>0.00</td>\n",
       "    </tr>\n",
       "    <tr>\n",
       "      <th>2013</th>\n",
       "      <td>0.00</td>\n",
       "      <td>0.0</td>\n",
       "      <td>0.0</td>\n",
       "      <td>0.0</td>\n",
       "      <td>0.0</td>\n",
       "      <td>0.0</td>\n",
       "      <td>0.0</td>\n",
       "      <td>0.0</td>\n",
       "      <td>0.0</td>\n",
       "      <td>0.0</td>\n",
       "      <td>0.0</td>\n",
       "      <td>0.00</td>\n",
       "      <td>0.00</td>\n",
       "      <td>0.00</td>\n",
       "    </tr>\n",
       "    <tr>\n",
       "      <th>2014</th>\n",
       "      <td>0.00</td>\n",
       "      <td>0.0</td>\n",
       "      <td>0.0</td>\n",
       "      <td>0.0</td>\n",
       "      <td>0.0</td>\n",
       "      <td>0.0</td>\n",
       "      <td>0.0</td>\n",
       "      <td>0.0</td>\n",
       "      <td>NaN</td>\n",
       "      <td>NaN</td>\n",
       "      <td>NaN</td>\n",
       "      <td>NaN</td>\n",
       "      <td>0.00</td>\n",
       "      <td>0.00</td>\n",
       "    </tr>\n",
       "    <tr>\n",
       "      <th>2015</th>\n",
       "      <td>NaN</td>\n",
       "      <td>NaN</td>\n",
       "      <td>NaN</td>\n",
       "      <td>NaN</td>\n",
       "      <td>NaN</td>\n",
       "      <td>0.0</td>\n",
       "      <td>0.0</td>\n",
       "      <td>0.0</td>\n",
       "      <td>0.0</td>\n",
       "      <td>0.0</td>\n",
       "      <td>0.0</td>\n",
       "      <td>7.85</td>\n",
       "      <td>7.85</td>\n",
       "      <td>1.96</td>\n",
       "    </tr>\n",
       "    <tr>\n",
       "      <th>2016</th>\n",
       "      <td>2.87</td>\n",
       "      <td>0.0</td>\n",
       "      <td>0.0</td>\n",
       "      <td>0.0</td>\n",
       "      <td>0.0</td>\n",
       "      <td>0.0</td>\n",
       "      <td>0.0</td>\n",
       "      <td>0.0</td>\n",
       "      <td>0.0</td>\n",
       "      <td>0.0</td>\n",
       "      <td>0.0</td>\n",
       "      <td>0.00</td>\n",
       "      <td>2.87</td>\n",
       "      <td>0.44</td>\n",
       "    </tr>\n",
       "    <tr>\n",
       "      <th>2017</th>\n",
       "      <td>0.00</td>\n",
       "      <td>0.0</td>\n",
       "      <td>0.0</td>\n",
       "      <td>0.0</td>\n",
       "      <td>0.0</td>\n",
       "      <td>0.0</td>\n",
       "      <td>0.0</td>\n",
       "      <td>0.0</td>\n",
       "      <td>0.0</td>\n",
       "      <td>0.0</td>\n",
       "      <td>0.0</td>\n",
       "      <td>0.00</td>\n",
       "      <td>0.00</td>\n",
       "      <td>0.00</td>\n",
       "    </tr>\n",
       "    <tr>\n",
       "      <th>2018</th>\n",
       "      <td>0.00</td>\n",
       "      <td>0.0</td>\n",
       "      <td>0.0</td>\n",
       "      <td>0.0</td>\n",
       "      <td>0.0</td>\n",
       "      <td>0.0</td>\n",
       "      <td>0.0</td>\n",
       "      <td>0.0</td>\n",
       "      <td>0.0</td>\n",
       "      <td>NaN</td>\n",
       "      <td>NaN</td>\n",
       "      <td>NaN</td>\n",
       "      <td>0.00</td>\n",
       "      <td>0.00</td>\n",
       "    </tr>\n",
       "  </tbody>\n",
       "</table>\n",
       "</div>"
      ],
      "text/plain": [
       "month     1    2    3    4    5    6    7    8    9   10   11    12  total  \\\n",
       "year                                                                         \n",
       "2012    NaN  NaN  NaN  NaN  NaN  NaN  NaN  NaN  NaN  0.0  0.0  0.00   0.00   \n",
       "2013   0.00  0.0  0.0  0.0  0.0  0.0  0.0  0.0  0.0  0.0  0.0  0.00   0.00   \n",
       "2014   0.00  0.0  0.0  0.0  0.0  0.0  0.0  0.0  NaN  NaN  NaN   NaN   0.00   \n",
       "2015    NaN  NaN  NaN  NaN  NaN  0.0  0.0  0.0  0.0  0.0  0.0  7.85   7.85   \n",
       "2016   2.87  0.0  0.0  0.0  0.0  0.0  0.0  0.0  0.0  0.0  0.0  0.00   2.87   \n",
       "2017   0.00  0.0  0.0  0.0  0.0  0.0  0.0  0.0  0.0  0.0  0.0  0.00   0.00   \n",
       "2018   0.00  0.0  0.0  0.0  0.0  0.0  0.0  0.0  0.0  NaN  NaN   NaN   0.00   \n",
       "\n",
       "month  average  \n",
       "year            \n",
       "2012      0.00  \n",
       "2013      0.00  \n",
       "2014      0.00  \n",
       "2015      1.96  \n",
       "2016      0.44  \n",
       "2017      0.00  \n",
       "2018      0.00  "
      ]
     },
     "execution_count": 36,
     "metadata": {},
     "output_type": "execute_result"
    }
   ],
   "source": [
    "snow_pivot = pd.pivot_table(data = traffic,index = 'year',values ='snow_1h',columns = 'month',aggfunc = sum)\n",
    "snow_pivot['total'] = snow_pivot.sum(axis = 1)\n",
    "snow_pivot['average'] = round(snow_pivot.mean(axis = 1),2)\n",
    "snow_pivot"
   ]
  },
  {
   "cell_type": "markdown",
   "metadata": {},
   "source": [
    "A lot of data is missing.  It will be difficult to draw any conclusions with so little data. Fortunately we can get daily rain and snow totals from the Minnesota Department of Natural Resources.  It won't be as localized or granular to the hour, but will work as a proxy.  For now we can focus on the hourly columns that do work for us, `temp`, `clouds_all`,`weather_main`, and`weather_description`"
   ]
  },
  {
   "cell_type": "markdown",
   "metadata": {},
   "source": [
    "## Categorical Columns\n",
    "Let's move on to the categorical columns.  We want to make sure there are no obvious duplicates, misspelling, etc. "
   ]
  },
  {
   "cell_type": "code",
   "execution_count": null,
   "metadata": {},
   "outputs": [],
   "source": [
    "categorical_cols = ['holiday','weather_main','weather_description']\n",
    "for i in categorical_cols:\n",
    "    print(traffic[i].value_counts().sort_index())\n",
    "    print()"
   ]
  },
  {
   "cell_type": "markdown",
   "metadata": {},
   "source": [
    "\"SQUALL\" is all uppercase and \"Sky is clear\" shows up twice with different capitalization.  We'll force all of them to title case. \n"
   ]
  },
  {
   "cell_type": "code",
   "execution_count": null,
   "metadata": {},
   "outputs": [],
   "source": [
    "for i in categorical_cols:\n",
    "    traffic[i] = traffic[i].str.title()"
   ]
  },
  {
   "cell_type": "code",
   "execution_count": null,
   "metadata": {},
   "outputs": [],
   "source": [
    "categorical_cols = ['holiday','weather_main','weather_description']\n",
    "for i in categorical_cols:\n",
    "    print(traffic[i].value_counts().sort_index())\n",
    "    print()"
   ]
  },
  {
   "cell_type": "markdown",
   "metadata": {},
   "source": [
    "## Exploring the Cleaned Data - Traffic Volume"
   ]
  },
  {
   "cell_type": "markdown",
   "metadata": {},
   "source": [
    "Since our primary field of interest is `traffic_volume`, we'll explore it first. We already saw the box plot. Let's look at it again but with the values. "
   ]
  },
  {
   "cell_type": "code",
   "execution_count": null,
   "metadata": {},
   "outputs": [],
   "source": [
    "traffic['traffic_volume'].describe()"
   ]
  },
  {
   "cell_type": "code",
   "execution_count": null,
   "metadata": {},
   "outputs": [],
   "source": [
    "plt.figure(figsize = (3,2))\n",
    "\n",
    "sns.boxplot(traffic['traffic_volume'])\n",
    "plt.show()"
   ]
  },
  {
   "cell_type": "markdown",
   "metadata": {},
   "source": [
    "The mean value is 3259.81 VPH.  We'll be using that as our cutoff point.  Anything higher than the mean will be considered \"high\" volume.  Now let's look at the distribution of `traffic_volume` with a histogram."
   ]
  },
  {
   "cell_type": "code",
   "execution_count": null,
   "metadata": {
    "scrolled": true
   },
   "outputs": [],
   "source": [
    "\n",
    "\n",
    "plt.figure (figsize = (10,2))\n",
    "sns.histplot(traffic['traffic_volume'],bins = range(0,7300,100))  #Approx 1 bin per 100 (range 0-7280)\n",
    "plt.title('Distribution of Traffic Volume')\n",
    "plt.xlabel('Traffic Volume')\n",
    "plt.xlim(-100,7300)\n",
    "\n",
    "\n",
    "plt.show()"
   ]
  },
  {
   "cell_type": "markdown",
   "metadata": {},
   "source": [
    "The values are rather evenly distributed, with counts mostly between 500-1000. It's rare to see 200 or fewer vehicles in an hour; those bars are barly visibible.  300 VPH is by far the most common value with 3000 occurrences. Nearly all of the remaining values range from around 500-1000 occurrences, with peaks around 2800 and 4500-4700 VPH, before tapering off above 6500 VPH.  Above 6900 VPH the bars ar again so small they're hard to see   There are approximately 8000 recordings each in the 0-500 and 4500-5000 vehicles per hour (VPH) ranges.  Occasionally (about 100 times), we see volumes up into the lower 7000 range (7280 max).  There are even some records of 0 vehicles per hour.  Perhaps these are times when counts were unavailable for some reason or just very light traffic, such as very early morning. "
   ]
  },
  {
   "cell_type": "code",
   "execution_count": null,
   "metadata": {},
   "outputs": [],
   "source": [
    "sns.barplot(data = traffic,x = traffic['date_time'].dt.year, y = 'traffic_volume')\n",
    "plt.title('Mean Traffic Volume by Year')\n",
    "\n",
    "plt.axhline(traffic['traffic_volume'].mean())\n",
    "plt.show()"
   ]
  },
  {
   "cell_type": "markdown",
   "metadata": {},
   "source": [
    "Traffic has remained relatively stable year over year. What about by month?"
   ]
  },
  {
   "cell_type": "code",
   "execution_count": null,
   "metadata": {},
   "outputs": [],
   "source": [
    "\n",
    "\n",
    "sns.barplot(data = traffic,x = traffic['date_time'].dt.month, y = 'traffic_volume')\n",
    "plt.title('Mean Traffic Volume by Month')\n",
    "\n",
    "plt.axhline(traffic['traffic_volume'].mean())\n",
    "plt.show()"
   ]
  },
  {
   "cell_type": "code",
   "execution_count": null,
   "metadata": {},
   "outputs": [],
   "source": [
    "sns.lineplot(data = traffic,x = traffic['date_time'].dt.month,hue = traffic['date_time'].dt.year, y = 'traffic_volume')"
   ]
  },
  {
   "cell_type": "code",
   "execution_count": null,
   "metadata": {},
   "outputs": [],
   "source": [
    "for i in range(2012,2019):\n",
    "    plt.figure(figsize = (10,2))\n",
    "    sns.lineplot(data = traffic[traffic['date_time'].dt.year == i],\n",
    "                 x = traffic['date_time'].dt.month,\n",
    "                 y = 'traffic_volume')\n",
    "    plt.title(i)\n",
    "    plt.xlim(1,12)\n",
    "    plt.ylim(2000,4000)\n",
    "    plt.show()"
   ]
  },
  {
   "cell_type": "markdown",
   "metadata": {},
   "source": [
    "This illuminates a couple of things.  First, we're missing months of data.  Unless the highway was completely shut down for some reason. Also, from 2016-2018 there is a noticeable dip in traffic in July, especially in 2016.  This might account for the lower yearly average in 2016.  It's also interesting that there would be a dip in traffic during the summer. Perhaps there was construction or some other factor at play. Since we're interested in conditions that increase traffic volume, this is out of the scope of our analysis, but a full report would likely require determining the cause of these discrepancies. "
   ]
  },
  {
   "cell_type": "markdown",
   "metadata": {},
   "source": [
    "## Traffic Volume: Day vs. Night\n",
    "\n",
    "Based on common traffic patterns, it is reasonable to hypothesize that the lowest volumes are at night and the highest ones occur during the day, possibly during rush hours and/or holidays. To test this hypothesis, we can divide the dataset into 2 parts, 12 hours each, from 7 A.M. to 7 P.M. (daytime) and 7 P.M. to 7 A.M. (night time).  This is just a starting point and may need editing based on our findings. "
   ]
  },
  {
   "cell_type": "code",
   "execution_count": null,
   "metadata": {},
   "outputs": [],
   "source": [
    "traffic['hour'] = pd.to_datetime(traffic['date_time']).dt.hour"
   ]
  },
  {
   "cell_type": "code",
   "execution_count": null,
   "metadata": {},
   "outputs": [],
   "source": [
    "mean_volume = traffic[\"traffic_volume\"].mean()\n",
    "\n",
    "hour_volume_pivot = pd.pivot_table(data = traffic, index = 'hour',values = 'traffic_volume')\n",
    "hour_volume_pivot.reset_index()\n",
    "\n",
    "\n",
    "\n",
    "plt.figure(figsize = (10,3))\n",
    "plt.title(\"Average Traffic Volume By Hour of the Day\")\n",
    "plt.xlabel(\"Hour\")\n",
    "plt.ylabel(\"Volume\")\n",
    "plt.axhline(mean_volume, color = 'green',label = \"Mean Volume\")\n",
    "plt.legend()\n",
    "\n",
    "sns.barplot(data = hour_volume_pivot.reset_index(),y = 'traffic_volume',x = 'hour',color = 'blue')\n",
    "\n",
    "\n",
    "plt.show()"
   ]
  },
  {
   "cell_type": "code",
   "execution_count": null,
   "metadata": {},
   "outputs": [],
   "source": [
    "hour_volume_pivot[hour_volume_pivot['traffic_volume'] > mean_volume ]"
   ]
  },
  {
   "cell_type": "markdown",
   "metadata": {},
   "source": [
    "Hours of above average traffic flow are from hours 6 to 19 (6 AM - 7 PM). The rush hours are 7 and 16 (7 AM and 4 PM) We can adjust our analysis to included these hours in \"heavy\" traffic hours. Since we're interested in heavy traffic, we'll create separate dataframes for day and night"
   ]
  },
  {
   "cell_type": "code",
   "execution_count": null,
   "metadata": {},
   "outputs": [],
   "source": [
    "# Create day DataFrame\n",
    "day = traffic[(traffic['date_time'].dt.hour >= 6) &\n",
    "                (traffic['date_time'].dt.hour <= 19)].copy()\n",
    "\n",
    "# Create night DataFrame\n",
    "night = traffic[(traffic['date_time'].dt.hour < 6) |\n",
    "                (traffic['date_time'].dt.hour > 19)].copy()\n",
    "\n",
    "# Create Figure\n",
    "fig, axes = plt.subplots(1,2,figsize = (15,5))\n",
    "axes[0].set_title(\"Day\")\n",
    "axes[0].set_xlabel(\"Number of Cars\")\n",
    "axes[0].set_ylim(0,5000)\n",
    "\n",
    "# Plot day volume histogram\n",
    "sns.histplot(day['traffic_volume'],bins = 25,ax = axes[0])\n",
    "axes[1].set_title(\"Night\")\n",
    "axes[1].set_xlabel(\"Number of Cars\")\n",
    "axes[1].set_ylim(0,5000)\n",
    "\n",
    "# Plot night volume histogram\n",
    "sns.histplot(night['traffic_volume'],bins = 25,ax = axes[1])\n",
    "\n",
    "\n",
    "\n",
    "plt.show()"
   ]
  },
  {
   "cell_type": "markdown",
   "metadata": {},
   "source": [
    "It appears most of our daytime values center around 4500-5000 VPH, while at nighttime they are much lower, with the majority of be values under 4000 VPH. Since we are interested in determining the causes of high traffic volume, we may want to consider not using the night data.  We can look at the statistics of the day vs. the night data to help make that decision. "
   ]
  },
  {
   "cell_type": "markdown",
   "metadata": {},
   "source": [
    "When we ran `pd.describe()` on all of the data, we saw a median value of 3380.  We can now see that at night more than 75% of the values fall below that and during the day more than 75% are above it.  Based on this, we can choose to focus solely on the daytime data. "
   ]
  },
  {
   "cell_type": "markdown",
   "metadata": {},
   "source": [
    "## Traffic Volume: Holidays"
   ]
  },
  {
   "cell_type": "code",
   "execution_count": null,
   "metadata": {},
   "outputs": [],
   "source": [
    "traffic.groupby(by = 'holiday').mean(numeric_only = True)['traffic_volume'].sort_values(ascending = False)"
   ]
  },
  {
   "cell_type": "markdown",
   "metadata": {},
   "source": [
    "Volume is extremely light on holidays, so we can remove it from our analysis as well. If we look closely, all of the data for those days is included at midnight (0 hours), so it was removed automatically when we filitered by hour."
   ]
  },
  {
   "cell_type": "code",
   "execution_count": null,
   "metadata": {},
   "outputs": [],
   "source": [
    "traffic[traffic['holiday'] != 'None']['hour'].value_counts()"
   ]
  },
  {
   "cell_type": "markdown",
   "metadata": {},
   "source": [
    "## Time Indicators\n",
    "\n",
    "Having narrowed down our data to focus on daytime hours, we can now look at what time and date factors might contribute to heavier traffic. We will look at how the parameters of month, day of the week and time of day influence the volume. To make this easier, let's create individual columns from `date_time` for day, month, year, and day of week so we don't have to calculate them on the fly later. "
   ]
  },
  {
   "cell_type": "code",
   "execution_count": null,
   "metadata": {},
   "outputs": [],
   "source": [
    "\n",
    "\n",
    "# Check the results\n",
    "day[['date_time','year','month','day','day_of_week']].head()"
   ]
  },
  {
   "cell_type": "code",
   "execution_count": null,
   "metadata": {},
   "outputs": [],
   "source": [
    "sns.barplot(data = day, x = day['date_time'].dt.month, y = 'traffic_volume')\n",
    "plt.show()"
   ]
  },
  {
   "cell_type": "markdown",
   "metadata": {},
   "source": [
    "Why this dip in July? Is it every year? Was there perhaps construction one year? Our only zero values are 7/2016\n"
   ]
  },
  {
   "cell_type": "markdown",
   "metadata": {},
   "source": [
    "### By Day of the Week\n",
    "\n",
    "Traffic is lowest during the winter months, particularly Decenber and January, and peaks in the summer.  The one exception to this pattern is July, when it falls back near to but not quite the winter values. Now let's look at traffic by day of week."
   ]
  },
  {
   "cell_type": "code",
   "execution_count": null,
   "metadata": {},
   "outputs": [],
   "source": [
    "sns.barplot(data = day, x = day['date_time'].dt.weekday, y = 'traffic_volume')\n",
    "plt.show()"
   ]
  },
  {
   "cell_type": "markdown",
   "metadata": {},
   "source": [
    "### By Hour\n",
    "The weekends, particularly Sunday have the lowest volumes.  There is also a small upward trend between Monday and Friday.\n",
    "\n",
    "Our last time indicator is hour.  As we just discovered, the weekends have lower volumes, so we'll want to exclude them so they don't skew our values. "
   ]
  },
  {
   "cell_type": "code",
   "execution_count": null,
   "metadata": {},
   "outputs": [],
   "source": [
    "day['hour'] = day['date_time'].dt.hour\n",
    "bussiness_days = day.copy()[day['dayofweek'] <= 4] # 4 == Friday\n",
    "weekend = day.copy()[day['dayofweek'] >= 5] # 5 == Saturday\n",
    "by_hour_business = bussiness_days.groupby('hour').mean()\n",
    "by_hour_weekend = weekend.groupby('hour').mean()\n",
    "\n",
    "# print(by_hour_business['traffic_volume'])\n",
    "# print(by_hour_weekend['traffic_volume'])"
   ]
  },
  {
   "cell_type": "code",
   "execution_count": null,
   "metadata": {},
   "outputs": [],
   "source": [
    "plt.figure(figsize=(8,3))\n",
    "\n",
    "plt.subplot(1, 2, 1)\n",
    "plt.title('Traffic Volume by Hour- Business Days')\n",
    "plt.xlabel('Hour')\n",
    "plt.ylabel('Number of Vehicles')\n",
    "\n",
    "plt.xlim(7,19)\n",
    "plt.ylim(1000,6500)\n",
    "\n",
    "\n",
    "plt.plot(by_hour_business['traffic_volume'])\n",
    "\n",
    "plt.subplot(1, 2, 2)\n",
    "plt.xlim(7,19)\n",
    "plt.ylim(1000,6500)\n",
    "plt.plot(by_hour_weekend['traffic_volume'])\n",
    "plt.xlabel('Hour')\n",
    "\n",
    "\n",
    "plt.title('Traffic Volume by Hour- Weekend Days')\n",
    "plt.show()"
   ]
  },
  {
   "cell_type": "markdown",
   "metadata": {},
   "source": [
    "1. Analyze both charts. How do they compare? When are the rush hours on business days?\n",
    "2 .Summarize all your findings regarding time indicators for heavy traffic."
   ]
  },
  {
   "cell_type": "markdown",
   "metadata": {},
   "source": [
    "## Weather Indicators\n",
    "\n",
    "In addition to time, another factor in heavy traffic can be the weather.  Our dataset has data on weather factors such as temperature, clouds, rain, show, and overall weather.  Since It's easier to find correlations in numerical data, we'll start with the numerical columns.  We already determined 'temp', 'rain_1h', \n",
    "'snow_1h', 'clouds_all',"
   ]
  },
  {
   "cell_type": "code",
   "execution_count": 235,
   "metadata": {},
   "outputs": [
    {
     "data": {
      "text/html": [
       "<div>\n",
       "<style scoped>\n",
       "    .dataframe tbody tr th:only-of-type {\n",
       "        vertical-align: middle;\n",
       "    }\n",
       "\n",
       "    .dataframe tbody tr th {\n",
       "        vertical-align: top;\n",
       "    }\n",
       "\n",
       "    .dataframe thead th {\n",
       "        text-align: right;\n",
       "    }\n",
       "</style>\n",
       "<table border=\"1\" class=\"dataframe\">\n",
       "  <thead>\n",
       "    <tr style=\"text-align: right;\">\n",
       "      <th></th>\n",
       "      <th>temp</th>\n",
       "      <th>clouds_all</th>\n",
       "      <th>traffic_volume</th>\n",
       "    </tr>\n",
       "  </thead>\n",
       "  <tbody>\n",
       "    <tr>\n",
       "      <th>temp</th>\n",
       "      <td>1.000000</td>\n",
       "      <td>-0.101976</td>\n",
       "      <td>0.130299</td>\n",
       "    </tr>\n",
       "    <tr>\n",
       "      <th>clouds_all</th>\n",
       "      <td>-0.101976</td>\n",
       "      <td>1.000000</td>\n",
       "      <td>0.067054</td>\n",
       "    </tr>\n",
       "    <tr>\n",
       "      <th>traffic_volume</th>\n",
       "      <td>0.130299</td>\n",
       "      <td>0.067054</td>\n",
       "      <td>1.000000</td>\n",
       "    </tr>\n",
       "  </tbody>\n",
       "</table>\n",
       "</div>"
      ],
      "text/plain": [
       "                    temp  clouds_all  traffic_volume\n",
       "temp            1.000000   -0.101976        0.130299\n",
       "clouds_all     -0.101976    1.000000        0.067054\n",
       "traffic_volume  0.130299    0.067054        1.000000"
      ]
     },
     "execution_count": 235,
     "metadata": {},
     "output_type": "execute_result"
    }
   ],
   "source": [
    "traffic[['temp', 'clouds_all','traffic_volume']].corr(numeric_only = False)"
   ]
  },
  {
   "cell_type": "code",
   "execution_count": null,
   "metadata": {},
   "outputs": [],
   "source": [
    "weather_cols = [ 'weather_main', 'weather_description','traffic_volume']\n",
    "day[weather_cols].corr()['traffic_volume']"
   ]
  },
  {
   "cell_type": "markdown",
   "metadata": {},
   "source": [
    "None of the columns show a strong correlation, negative or positive.  Let's take a visual look to see if anything stands out For numeric columns we'll do scatter plots, for categorical ones we'll do box and whisker.  Date/time related are handled elsewhere"
   ]
  },
  {
   "cell_type": "markdown",
   "metadata": {},
   "source": [
    "### Import Weather Data\n",
    "\n",
    "Downloaded from https://www.dnr.state.mn.us/climate/historical/daily-data.html?sid=mspthr&sname=Minneapolis/St%20Paul%20Threaded%20Record&sdate=2010-01-01&edate=por\n",
    "\n",
    "Saved as 'weather_data.csv'"
   ]
  },
  {
   "cell_type": "code",
   "execution_count": 219,
   "metadata": {
    "scrolled": true
   },
   "outputs": [
    {
     "data": {
      "text/html": [
       "<div>\n",
       "<style scoped>\n",
       "    .dataframe tbody tr th:only-of-type {\n",
       "        vertical-align: middle;\n",
       "    }\n",
       "\n",
       "    .dataframe tbody tr th {\n",
       "        vertical-align: top;\n",
       "    }\n",
       "\n",
       "    .dataframe thead th {\n",
       "        text-align: right;\n",
       "    }\n",
       "</style>\n",
       "<table border=\"1\" class=\"dataframe\">\n",
       "  <thead>\n",
       "    <tr style=\"text-align: right;\">\n",
       "      <th></th>\n",
       "      <th>Date</th>\n",
       "      <th>Maximum Temperature degrees (F)</th>\n",
       "      <th>Minimum Temperature degrees (F)</th>\n",
       "      <th>Precipitation (inches)</th>\n",
       "      <th>Snow (inches)</th>\n",
       "      <th>Snow Depth (inches)</th>\n",
       "    </tr>\n",
       "  </thead>\n",
       "  <tbody>\n",
       "    <tr>\n",
       "      <th>0</th>\n",
       "      <td>2010-01-01</td>\n",
       "      <td>6.0</td>\n",
       "      <td>-9.0</td>\n",
       "      <td>T</td>\n",
       "      <td>T</td>\n",
       "      <td>9.00</td>\n",
       "    </tr>\n",
       "    <tr>\n",
       "      <th>1</th>\n",
       "      <td>2010-01-02</td>\n",
       "      <td>1.0</td>\n",
       "      <td>-15.0</td>\n",
       "      <td>0.00</td>\n",
       "      <td>0.00</td>\n",
       "      <td>9.00</td>\n",
       "    </tr>\n",
       "    <tr>\n",
       "      <th>2</th>\n",
       "      <td>2010-01-03</td>\n",
       "      <td>7.0</td>\n",
       "      <td>-14.0</td>\n",
       "      <td>0.00</td>\n",
       "      <td>0.00</td>\n",
       "      <td>9.00</td>\n",
       "    </tr>\n",
       "    <tr>\n",
       "      <th>3</th>\n",
       "      <td>2010-01-04</td>\n",
       "      <td>7.0</td>\n",
       "      <td>-10.0</td>\n",
       "      <td>0.00</td>\n",
       "      <td>0.00</td>\n",
       "      <td>9.00</td>\n",
       "    </tr>\n",
       "    <tr>\n",
       "      <th>4</th>\n",
       "      <td>2010-01-05</td>\n",
       "      <td>10.0</td>\n",
       "      <td>-9.0</td>\n",
       "      <td>0.00</td>\n",
       "      <td>0.00</td>\n",
       "      <td>9.00</td>\n",
       "    </tr>\n",
       "  </tbody>\n",
       "</table>\n",
       "</div>"
      ],
      "text/plain": [
       "         Date  Maximum Temperature degrees (F)  \\\n",
       "0  2010-01-01                              6.0   \n",
       "1  2010-01-02                              1.0   \n",
       "2  2010-01-03                              7.0   \n",
       "3  2010-01-04                              7.0   \n",
       "4  2010-01-05                             10.0   \n",
       "\n",
       "   Minimum Temperature degrees (F) Precipitation (inches) Snow (inches)  \\\n",
       "0                             -9.0                      T             T   \n",
       "1                            -15.0                   0.00          0.00   \n",
       "2                            -14.0                   0.00          0.00   \n",
       "3                            -10.0                   0.00          0.00   \n",
       "4                             -9.0                   0.00          0.00   \n",
       "\n",
       "  Snow Depth (inches)  \n",
       "0                9.00  \n",
       "1                9.00  \n",
       "2                9.00  \n",
       "3                9.00  \n",
       "4                9.00  "
      ]
     },
     "execution_count": 219,
     "metadata": {},
     "output_type": "execute_result"
    }
   ],
   "source": [
    "weather = pd.read_csv('weather_data.csv')\n",
    "weather.head()\n"
   ]
  },
  {
   "cell_type": "code",
   "execution_count": 220,
   "metadata": {},
   "outputs": [
    {
     "name": "stdout",
     "output_type": "stream",
     "text": [
      "<class 'pandas.core.frame.DataFrame'>\n",
      "RangeIndex: 4920 entries, 0 to 4919\n",
      "Data columns (total 6 columns):\n",
      " #   Column                           Non-Null Count  Dtype  \n",
      "---  ------                           --------------  -----  \n",
      " 0   Date                             4920 non-null   object \n",
      " 1   Maximum Temperature degrees (F)  4920 non-null   float64\n",
      " 2   Minimum Temperature degrees (F)  4920 non-null   float64\n",
      " 3   Precipitation (inches)           4920 non-null   object \n",
      " 4   Snow (inches)                    4920 non-null   object \n",
      " 5   Snow Depth (inches)              4920 non-null   object \n",
      "dtypes: float64(2), object(4)\n",
      "memory usage: 230.8+ KB\n"
     ]
    }
   ],
   "source": [
    "weather.info()"
   ]
  },
  {
   "cell_type": "code",
   "execution_count": 221,
   "metadata": {},
   "outputs": [
    {
     "data": {
      "text/html": [
       "<div>\n",
       "<style scoped>\n",
       "    .dataframe tbody tr th:only-of-type {\n",
       "        vertical-align: middle;\n",
       "    }\n",
       "\n",
       "    .dataframe tbody tr th {\n",
       "        vertical-align: top;\n",
       "    }\n",
       "\n",
       "    .dataframe thead th {\n",
       "        text-align: right;\n",
       "    }\n",
       "</style>\n",
       "<table border=\"1\" class=\"dataframe\">\n",
       "  <thead>\n",
       "    <tr style=\"text-align: right;\">\n",
       "      <th></th>\n",
       "      <th>Date</th>\n",
       "      <th>Maximum Temperature degrees (F)</th>\n",
       "      <th>Minimum Temperature degrees (F)</th>\n",
       "      <th>Precipitation (inches)</th>\n",
       "      <th>Snow (inches)</th>\n",
       "      <th>Snow Depth (inches)</th>\n",
       "    </tr>\n",
       "  </thead>\n",
       "  <tbody>\n",
       "    <tr>\n",
       "      <th>0</th>\n",
       "      <td>2010-01-01</td>\n",
       "      <td>6.0</td>\n",
       "      <td>-9.0</td>\n",
       "      <td>0.005</td>\n",
       "      <td>0.005</td>\n",
       "      <td>9.00</td>\n",
       "    </tr>\n",
       "    <tr>\n",
       "      <th>1</th>\n",
       "      <td>2010-01-02</td>\n",
       "      <td>1.0</td>\n",
       "      <td>-15.0</td>\n",
       "      <td>0.00</td>\n",
       "      <td>0.00</td>\n",
       "      <td>9.00</td>\n",
       "    </tr>\n",
       "    <tr>\n",
       "      <th>2</th>\n",
       "      <td>2010-01-03</td>\n",
       "      <td>7.0</td>\n",
       "      <td>-14.0</td>\n",
       "      <td>0.00</td>\n",
       "      <td>0.00</td>\n",
       "      <td>9.00</td>\n",
       "    </tr>\n",
       "    <tr>\n",
       "      <th>3</th>\n",
       "      <td>2010-01-04</td>\n",
       "      <td>7.0</td>\n",
       "      <td>-10.0</td>\n",
       "      <td>0.00</td>\n",
       "      <td>0.00</td>\n",
       "      <td>9.00</td>\n",
       "    </tr>\n",
       "    <tr>\n",
       "      <th>4</th>\n",
       "      <td>2010-01-05</td>\n",
       "      <td>10.0</td>\n",
       "      <td>-9.0</td>\n",
       "      <td>0.00</td>\n",
       "      <td>0.00</td>\n",
       "      <td>9.00</td>\n",
       "    </tr>\n",
       "  </tbody>\n",
       "</table>\n",
       "</div>"
      ],
      "text/plain": [
       "         Date  Maximum Temperature degrees (F)  \\\n",
       "0  2010-01-01                              6.0   \n",
       "1  2010-01-02                              1.0   \n",
       "2  2010-01-03                              7.0   \n",
       "3  2010-01-04                              7.0   \n",
       "4  2010-01-05                             10.0   \n",
       "\n",
       "   Minimum Temperature degrees (F) Precipitation (inches) Snow (inches)  \\\n",
       "0                             -9.0                  0.005         0.005   \n",
       "1                            -15.0                   0.00          0.00   \n",
       "2                            -14.0                   0.00          0.00   \n",
       "3                            -10.0                   0.00          0.00   \n",
       "4                             -9.0                   0.00          0.00   \n",
       "\n",
       "  Snow Depth (inches)  \n",
       "0                9.00  \n",
       "1                9.00  \n",
       "2                9.00  \n",
       "3                9.00  \n",
       "4                9.00  "
      ]
     },
     "execution_count": 221,
     "metadata": {},
     "output_type": "execute_result"
    }
   ],
   "source": [
    "# Convert Trace ('T') to 0.005\n",
    "precip_cols = weather.columns[-3:]\n",
    "\n",
    "for i in precip_cols:\n",
    "    weather[i].mask(lambda x : x =='T', other = '0.005',inplace = True)\n",
    "weather.head()"
   ]
  },
  {
   "cell_type": "code",
   "execution_count": 223,
   "metadata": {},
   "outputs": [
    {
     "name": "stdout",
     "output_type": "stream",
     "text": [
      "<class 'pandas.core.frame.DataFrame'>\n",
      "RangeIndex: 4920 entries, 0 to 4919\n",
      "Data columns (total 6 columns):\n",
      " #   Column                           Non-Null Count  Dtype         \n",
      "---  ------                           --------------  -----         \n",
      " 0   Date                             4920 non-null   datetime64[ns]\n",
      " 1   Maximum Temperature degrees (F)  4920 non-null   float64       \n",
      " 2   Minimum Temperature degrees (F)  4920 non-null   float64       \n",
      " 3   Precipitation (inches)           4920 non-null   float64       \n",
      " 4   Snow (inches)                    4920 non-null   float64       \n",
      " 5   Snow Depth (inches)              4920 non-null   float64       \n",
      "dtypes: datetime64[ns](1), float64(5)\n",
      "memory usage: 230.8 KB\n"
     ]
    }
   ],
   "source": [
    "weather['Date'] = pd.to_datetime(weather['Date'])\n",
    "\n",
    "\n",
    "weather[precip_cols] = weather[precip_cols].astype('float')\n",
    "weather.info()"
   ]
  },
  {
   "cell_type": "code",
   "execution_count": 226,
   "metadata": {
    "scrolled": true
   },
   "outputs": [
    {
     "data": {
      "text/html": [
       "<div>\n",
       "<style scoped>\n",
       "    .dataframe tbody tr th:only-of-type {\n",
       "        vertical-align: middle;\n",
       "    }\n",
       "\n",
       "    .dataframe tbody tr th {\n",
       "        vertical-align: top;\n",
       "    }\n",
       "\n",
       "    .dataframe thead th {\n",
       "        text-align: right;\n",
       "    }\n",
       "</style>\n",
       "<table border=\"1\" class=\"dataframe\">\n",
       "  <thead>\n",
       "    <tr style=\"text-align: right;\">\n",
       "      <th></th>\n",
       "      <th>Maximum Temperature degrees (F)</th>\n",
       "      <th>Minimum Temperature degrees (F)</th>\n",
       "      <th>Precipitation (inches)</th>\n",
       "      <th>Snow (inches)</th>\n",
       "      <th>Snow Depth (inches)</th>\n",
       "    </tr>\n",
       "  </thead>\n",
       "  <tbody>\n",
       "    <tr>\n",
       "      <th>Maximum Temperature degrees (F)</th>\n",
       "      <td>1.000000</td>\n",
       "      <td>0.962345</td>\n",
       "      <td>0.111499</td>\n",
       "      <td>-0.218049</td>\n",
       "      <td>-0.579460</td>\n",
       "    </tr>\n",
       "    <tr>\n",
       "      <th>Minimum Temperature degrees (F)</th>\n",
       "      <td>0.962345</td>\n",
       "      <td>1.000000</td>\n",
       "      <td>0.166375</td>\n",
       "      <td>-0.196209</td>\n",
       "      <td>-0.590882</td>\n",
       "    </tr>\n",
       "    <tr>\n",
       "      <th>Precipitation (inches)</th>\n",
       "      <td>0.111499</td>\n",
       "      <td>0.166375</td>\n",
       "      <td>1.000000</td>\n",
       "      <td>0.200218</td>\n",
       "      <td>-0.077325</td>\n",
       "    </tr>\n",
       "    <tr>\n",
       "      <th>Snow (inches)</th>\n",
       "      <td>-0.218049</td>\n",
       "      <td>-0.196209</td>\n",
       "      <td>0.200218</td>\n",
       "      <td>1.000000</td>\n",
       "      <td>0.185941</td>\n",
       "    </tr>\n",
       "    <tr>\n",
       "      <th>Snow Depth (inches)</th>\n",
       "      <td>-0.579460</td>\n",
       "      <td>-0.590882</td>\n",
       "      <td>-0.077325</td>\n",
       "      <td>0.185941</td>\n",
       "      <td>1.000000</td>\n",
       "    </tr>\n",
       "  </tbody>\n",
       "</table>\n",
       "</div>"
      ],
      "text/plain": [
       "                                 Maximum Temperature degrees (F)  \\\n",
       "Maximum Temperature degrees (F)                         1.000000   \n",
       "Minimum Temperature degrees (F)                         0.962345   \n",
       "Precipitation (inches)                                  0.111499   \n",
       "Snow (inches)                                          -0.218049   \n",
       "Snow Depth (inches)                                    -0.579460   \n",
       "\n",
       "                                 Minimum Temperature degrees (F)  \\\n",
       "Maximum Temperature degrees (F)                         0.962345   \n",
       "Minimum Temperature degrees (F)                         1.000000   \n",
       "Precipitation (inches)                                  0.166375   \n",
       "Snow (inches)                                          -0.196209   \n",
       "Snow Depth (inches)                                    -0.590882   \n",
       "\n",
       "                                 Precipitation (inches)  Snow (inches)  \\\n",
       "Maximum Temperature degrees (F)                0.111499      -0.218049   \n",
       "Minimum Temperature degrees (F)                0.166375      -0.196209   \n",
       "Precipitation (inches)                         1.000000       0.200218   \n",
       "Snow (inches)                                  0.200218       1.000000   \n",
       "Snow Depth (inches)                           -0.077325       0.185941   \n",
       "\n",
       "                                 Snow Depth (inches)  \n",
       "Maximum Temperature degrees (F)            -0.579460  \n",
       "Minimum Temperature degrees (F)            -0.590882  \n",
       "Precipitation (inches)                     -0.077325  \n",
       "Snow (inches)                               0.185941  \n",
       "Snow Depth (inches)                         1.000000  "
      ]
     },
     "execution_count": 226,
     "metadata": {},
     "output_type": "execute_result"
    }
   ],
   "source": [
    "weather.corr(numeric_only = True)"
   ]
  },
  {
   "cell_type": "code",
   "execution_count": null,
   "metadata": {},
   "outputs": [],
   "source": [
    "day['holiday'].value_counts()"
   ]
  },
  {
   "cell_type": "code",
   "execution_count": null,
   "metadata": {},
   "outputs": [],
   "source": [
    "\n",
    "\n",
    "# plt.figure(figsize = (10,20))\n",
    "\n",
    "for i in day[numeric_cols]:\n",
    "    plt.figure(figsize = (3,2))\n",
    "    day.plot.scatter(i,'traffic_volume',figsize = (5,5))\n",
    "    plt.show()\n"
   ]
  },
  {
   "cell_type": "code",
   "execution_count": null,
   "metadata": {},
   "outputs": [],
   "source": [
    "traffic.loc[traffic['rain_1h']> 0,['rain_1h','traffic_volume'] ].corr()"
   ]
  },
  {
   "cell_type": "markdown",
   "metadata": {},
   "source": [
    "Temperature and clouds both show mild correlation, but we see something interesting with rain and snow.  As we saw with our box plots earlier, the number of zero values massively outweighs the non-zero values.  "
   ]
  },
  {
   "cell_type": "code",
   "execution_count": null,
   "metadata": {},
   "outputs": [],
   "source": [
    "day.loc[day['temp'] >0 ].plot.scatter('temp', 'traffic_volume')"
   ]
  },
  {
   "cell_type": "code",
   "execution_count": null,
   "metadata": {},
   "outputs": [],
   "source": [
    "day.loc[day['snow_1h'] >0,['snow_1h','traffic_volume']].corr()#.plot.scatter('snow_1h','traffic_volume')"
   ]
  },
  {
   "cell_type": "code",
   "execution_count": null,
   "metadata": {},
   "outputs": [],
   "source": [
    "day.loc[day['snow_1h'] >0,].plot.scatter('snow_1h','traffic_volume')"
   ]
  },
  {
   "cell_type": "markdown",
   "metadata": {},
   "source": [
    "Notes:\n",
    "- remp - 2 outliers of 0 degrees.  Remove and rerun\n",
    "- rain_1h- 1 with rainfall of 10000. Remove and rerun\n",
    "- snow_1h - Most values are 0, which may skew data. Non-zero values show possible correlation. Recompute without zero values?\n",
    "- clouds_all - "
   ]
  },
  {
   "cell_type": "markdown",
   "metadata": {},
   "source": [
    "### Weather - Categorical Columns\n",
    "\n",
    "For the rest of our weather analysis, we return to the hourly dataframe and look at the categorical columns, namely `weather_main` and `weather_description`.  First, let's look at the description and value counts of these two columns."
   ]
  },
  {
   "cell_type": "code",
   "execution_count": 265,
   "metadata": {},
   "outputs": [
    {
     "data": {
      "text/plain": [
       "count    48204.000000\n",
       "mean      3259.818355\n",
       "std       1986.860670\n",
       "min          0.000000\n",
       "25%       1193.000000\n",
       "50%       3380.000000\n",
       "75%       4933.000000\n",
       "max       7280.000000\n",
       "Name: traffic_volume, dtype: float64"
      ]
     },
     "execution_count": 265,
     "metadata": {},
     "output_type": "execute_result"
    }
   ],
   "source": [
    "traffic['traffic_volume'].describe()"
   ]
  },
  {
   "cell_type": "code",
   "execution_count": 270,
   "metadata": {},
   "outputs": [
    {
     "data": {
      "image/png": "[encoded data removed]",
      "text/plain": [
       "<Figure size 2000x500 with 1 Axes>"
      ]
     },
     "metadata": {},
     "output_type": "display_data"
    }
   ],
   "source": [
    "categorical_cols = ['weather_main',\n",
    "       'weather_description']\n",
    "\n",
    "# get means in order for sorting the boxplot\n",
    "by_weather_main = traffic.groupby('weather_main').mean(numeric_only = True)\n",
    "by_weather_description = traffic.groupby('weather_description').mean(numeric_only = True)\n",
    "weather_means = by_weather_main.sort_values('traffic_volume').index\n",
    "\n",
    "\n",
    "plt.figure(figsize = (20,5))\n",
    "sns.boxplot(traffic,x = 'traffic_volume',y = 'weather_main',order = weather_means)\n",
    "plt.axvline(1193)\n",
    "plt.axvline(traffic['traffic_volume'].mean())\n",
    "plt.axvline(4933)\n",
    "# for i in traffic[categorical_cols]:\n",
    "#     traffic.plot.scatter(i,'traffic_volume')\n",
    "    \n",
    "plt.show()"
   ]
  },
  {
   "cell_type": "code",
   "execution_count": 253,
   "metadata": {},
   "outputs": [
    {
     "data": {
      "image/png": "[encoded data removed]",
      "text/plain": [
       "<Figure size 1000x1000 with 1 Axes>"
      ]
     },
     "metadata": {},
     "output_type": "display_data"
    }
   ],
   "source": [
    "plt.figure(figsize = (10,10))\n",
    "sns.boxplot(traffic,x = 'traffic_volume',y = 'weather_description')\n",
    "\n",
    "# for i in traffic[categorical_cols]:\n",
    "#     traffic.plot.scatter(i,'traffic_volume')\n",
    "    \n",
    "plt.show()"
   ]
  },
  {
   "cell_type": "code",
   "execution_count": null,
   "metadata": {},
   "outputs": [],
   "source": [
    "day['weather_main'].describe()"
   ]
  },
  {
   "cell_type": "code",
   "execution_count": null,
   "metadata": {},
   "outputs": [],
   "source": [
    "day['weather_main'].value_counts()"
   ]
  },
  {
   "cell_type": "code",
   "execution_count": null,
   "metadata": {},
   "outputs": [],
   "source": [
    "day['weather_description'].describe()"
   ]
  },
  {
   "cell_type": "code",
   "execution_count": null,
   "metadata": {},
   "outputs": [],
   "source": [
    "day['weather_description'].value_counts()"
   ]
  },
  {
   "cell_type": "markdown",
   "metadata": {},
   "source": [
    "Both columns have a manageable number of unique values.  We can calculate the average traffic volume for each value to see if any correlate with traffic volume. "
   ]
  },
  {
   "cell_type": "code",
   "execution_count": 258,
   "metadata": {},
   "outputs": [],
   "source": [
    "by_weather_main = traffic.groupby('weather_main').mean(numeric_only = True)\n",
    "by_weather_description = traffic.groupby('weather_description').mean(numeric_only = True)\n",
    "by_weather_main.sort_values('traffic_volume').index"
   ]
  },
  {
   "cell_type": "code",
   "execution_count": 267,
   "metadata": {},
   "outputs": [
    {
     "data": {
      "text/plain": [
       "Index(['Squall', 'Fog', 'Mist', 'Thunderstorm', 'Snow', 'Clear', 'Smoke',\n",
       "       'Drizzle', 'Rain', 'Haze', 'Clouds'],\n",
       "      dtype='object', name='weather_main')"
      ]
     },
     "execution_count": 267,
     "metadata": {},
     "output_type": "execute_result"
    }
   ],
   "source": [
    "by_weather_main.sort_values('traffic_volume').index"
   ]
  },
  {
   "cell_type": "code",
   "execution_count": 259,
   "metadata": {},
   "outputs": [
    {
     "data": {
      "image/png": "[encoded data removed]",
      "text/plain": [
       "<Figure size 640x480 with 1 Axes>"
      ]
     },
     "metadata": {},
     "output_type": "display_data"
    }
   ],
   "source": [
    "by_weather_main['traffic_volume'].sort_values().plot.barh()\n",
    "plt.axvline(traffic['traffic_volume'].mean())\n",
    "plt.show()"
   ]
  },
  {
   "cell_type": "markdown",
   "metadata": {},
   "source": [
    "Interesting to note that clear skies falls almost exactly on the mean.  The 3 conditions that increase volume are clouds, drizzle, and rain.  The ones that reduce volume are those that affect visibility the most: Thuderstorms and Squall (heavier rain), Mist, Haze, Smoke, Snow, and Fog. Note that this does not match our earlier observed positive correlation between snowfall and traffic volume.  Let's see if the more detailed `weather_description` sheds any light on this.  "
   ]
  },
  {
   "cell_type": "code",
   "execution_count": null,
   "metadata": {},
   "outputs": [],
   "source": [
    "by_weather_description['traffic_volume'].sort_values().plot.barh()\n",
    "plt.axvline(day['traffic_volume'].mean())\n",
    "plt.show()"
   ]
  },
  {
   "cell_type": "code",
   "execution_count": null,
   "metadata": {},
   "outputs": [],
   "source": [
    "by_weather_description[by_weather_description['snow_1h'] > 0]"
   ]
  },
  {
   "cell_type": "markdown",
   "metadata": {},
   "source": [
    "The pattern holds.  Clear skies see average traffic. Lighter weather generally increases volume and conditions that affect visibility reduce volume. Also, Shower snow is one of the highest contributors to heavier-than-average traffic, while light show leads to lighter traffic. Averaging them together "
   ]
  },
  {
   "cell_type": "code",
   "execution_count": null,
   "metadata": {},
   "outputs": [],
   "source": [
    "by_snow"
   ]
  },
  {
   "cell_type": "code",
   "execution_count": null,
   "metadata": {},
   "outputs": [],
   "source": [
    "by_weather_description[by_weather_description['snow_1h'] > 0].mean().corr"
   ]
  },
  {
   "cell_type": "code",
   "execution_count": null,
   "metadata": {},
   "outputs": [],
   "source": [
    "by_snow = by_weather_description.filter(like='Snow', axis=0)\n",
    "\n",
    "by_snow['traffic_volume'].sort_values().plot.barh()\n",
    "plt.axvline(day['traffic_volume'].mean())\n",
    "plt.show()"
   ]
  },
  {
   "cell_type": "markdown",
   "metadata": {},
   "source": [
    "## Conclusion\n",
    "\n",
    "In this notebook, we have analyzed traffic flow indicators along westbound I-94 between Minneapolis and Saint Paul, Minnesota for dates between 2012 and 2017.  We first looked at time/date indicators and found that traffic is heavier during the day and on business days.  It also tends to be heavier in warmer months, with the slowest months being December and January.  \n",
    "\n",
    "We then turned to weather indicators.  None of the numerical indicators showed any strong correlation with traffic volume, with temperature being the highest at +0.13.  Finally we examined the categorical columns of weather main and weather description and found little indication that weather affects the flow of traffic, with the possible exception of shhower snow and light rain and snow causing increased volume and thunderstorm and drizzle reducing the flow. \n",
    "\n",
    "Armed with this data and insights, we might be able to make recommendations to the local transportation departments that could help them plan the best times for road construction or develop strategies for how to prevent or mitigate overcrowded conditions during peak traffic times. "
   ]
  },
  {
   "cell_type": "code",
   "execution_count": null,
   "metadata": {},
   "outputs": [],
   "source": [
    "import seaborn as sns"
   ]
  },
  {
   "cell_type": "code",
   "execution_count": null,
   "metadata": {},
   "outputs": [],
   "source": [
    "pl\n",
    "sns.pairplot(day)\n",
    "\n",
    "plt.show()"
   ]
  },
  {
   "cell_type": "code",
   "execution_count": null,
   "metadata": {},
   "outputs": [],
   "source": [
    "by_weather_main = traffic.groupby('weather_main').mean()\n",
    "by_weather_main['traffic_volume'].sort_values().plot.barh()"
   ]
  },
  {
   "cell_type": "code",
   "execution_count": null,
   "metadata": {},
   "outputs": [],
   "source": [
    "by_weather_description = traffic.groupby('weather_description').mean()\n",
    "by_weather_description['traffic_volume'].sort_values().plot.barh()"
   ]
  },
  {
   "cell_type": "code",
   "execution_count": 74,
   "metadata": {},
   "outputs": [
    {
     "name": "stdout",
     "output_type": "stream",
     "text": [
      "<class 'pandas.core.frame.DataFrame'>\n",
      "RangeIndex: 4920 entries, 0 to 4919\n",
      "Data columns (total 6 columns):\n",
      " #   Column                           Non-Null Count  Dtype         \n",
      "---  ------                           --------------  -----         \n",
      " 0   Date                             4920 non-null   datetime64[ns]\n",
      " 1   Maximum Temperature degrees (F)  4920 non-null   float64       \n",
      " 2   Minimum Temperature degrees (F)  4920 non-null   float64       \n",
      " 3   Precipitation (inches)           4920 non-null   object        \n",
      " 4   Snow (inches)                    4920 non-null   object        \n",
      " 5   Snow Depth (inches)              4920 non-null   object        \n",
      "dtypes: datetime64[ns](1), float64(2), object(3)\n",
      "memory usage: 230.8+ KB\n"
     ]
    }
   ],
   "source": [
    "weather.info()"
   ]
  },
  {
   "cell_type": "code",
   "execution_count": 66,
   "metadata": {},
   "outputs": [
    {
     "data": {
      "text/html": [
       "<div>\n",
       "<style scoped>\n",
       "    .dataframe tbody tr th:only-of-type {\n",
       "        vertical-align: middle;\n",
       "    }\n",
       "\n",
       "    .dataframe tbody tr th {\n",
       "        vertical-align: top;\n",
       "    }\n",
       "\n",
       "    .dataframe thead th {\n",
       "        text-align: right;\n",
       "    }\n",
       "</style>\n",
       "<table border=\"1\" class=\"dataframe\">\n",
       "  <thead>\n",
       "    <tr style=\"text-align: right;\">\n",
       "      <th></th>\n",
       "      <th>date_time</th>\n",
       "      <th>traffic_volume</th>\n",
       "    </tr>\n",
       "  </thead>\n",
       "  <tbody>\n",
       "    <tr>\n",
       "      <th>0</th>\n",
       "      <td>2012-10-02</td>\n",
       "      <td>63289</td>\n",
       "    </tr>\n",
       "    <tr>\n",
       "      <th>1</th>\n",
       "      <td>2012-10-03</td>\n",
       "      <td>66345</td>\n",
       "    </tr>\n",
       "    <tr>\n",
       "      <th>2</th>\n",
       "      <td>2012-10-04</td>\n",
       "      <td>89939</td>\n",
       "    </tr>\n",
       "    <tr>\n",
       "      <th>3</th>\n",
       "      <td>2012-10-05</td>\n",
       "      <td>93336</td>\n",
       "    </tr>\n",
       "    <tr>\n",
       "      <th>4</th>\n",
       "      <td>2012-10-06</td>\n",
       "      <td>74910</td>\n",
       "    </tr>\n",
       "    <tr>\n",
       "      <th>...</th>\n",
       "      <td>...</td>\n",
       "      <td>...</td>\n",
       "    </tr>\n",
       "    <tr>\n",
       "      <th>1855</th>\n",
       "      <td>2018-09-26</td>\n",
       "      <td>88627</td>\n",
       "    </tr>\n",
       "    <tr>\n",
       "      <th>1856</th>\n",
       "      <td>2018-09-27</td>\n",
       "      <td>94434</td>\n",
       "    </tr>\n",
       "    <tr>\n",
       "      <th>1857</th>\n",
       "      <td>2018-09-28</td>\n",
       "      <td>92518</td>\n",
       "    </tr>\n",
       "    <tr>\n",
       "      <th>1858</th>\n",
       "      <td>2018-09-29</td>\n",
       "      <td>76242</td>\n",
       "    </tr>\n",
       "    <tr>\n",
       "      <th>1859</th>\n",
       "      <td>2018-09-30</td>\n",
       "      <td>68785</td>\n",
       "    </tr>\n",
       "  </tbody>\n",
       "</table>\n",
       "<p>1860 rows × 2 columns</p>\n",
       "</div>"
      ],
      "text/plain": [
       "      date_time  traffic_volume\n",
       "0    2012-10-02           63289\n",
       "1    2012-10-03           66345\n",
       "2    2012-10-04           89939\n",
       "3    2012-10-05           93336\n",
       "4    2012-10-06           74910\n",
       "...         ...             ...\n",
       "1855 2018-09-26           88627\n",
       "1856 2018-09-27           94434\n",
       "1857 2018-09-28           92518\n",
       "1858 2018-09-29           76242\n",
       "1859 2018-09-30           68785\n",
       "\n",
       "[1860 rows x 2 columns]"
      ]
     },
     "execution_count": 66,
     "metadata": {},
     "output_type": "execute_result"
    }
   ],
   "source": [
    "by_date = traffic[['date_time','traffic_volume']].groupby(traffic['date_time'].dt.date).sum(numeric_only = True).reset_index()\n",
    "by_date['date_time']= pd.to_datetime(by_date['date_time'])\n",
    "by_date"
   ]
  },
  {
   "cell_type": "code",
   "execution_count": 227,
   "metadata": {},
   "outputs": [
    {
     "data": {
      "text/html": [
       "<div>\n",
       "<style scoped>\n",
       "    .dataframe tbody tr th:only-of-type {\n",
       "        vertical-align: middle;\n",
       "    }\n",
       "\n",
       "    .dataframe tbody tr th {\n",
       "        vertical-align: top;\n",
       "    }\n",
       "\n",
       "    .dataframe thead th {\n",
       "        text-align: right;\n",
       "    }\n",
       "</style>\n",
       "<table border=\"1\" class=\"dataframe\">\n",
       "  <thead>\n",
       "    <tr style=\"text-align: right;\">\n",
       "      <th></th>\n",
       "      <th>date_time</th>\n",
       "      <th>traffic_volume</th>\n",
       "      <th>Maximum Temperature degrees (F)</th>\n",
       "      <th>Minimum Temperature degrees (F)</th>\n",
       "      <th>Precipitation (inches)</th>\n",
       "      <th>Snow (inches)</th>\n",
       "      <th>Snow Depth (inches)</th>\n",
       "    </tr>\n",
       "  </thead>\n",
       "  <tbody>\n",
       "    <tr>\n",
       "      <th>0</th>\n",
       "      <td>2012-10-02</td>\n",
       "      <td>63289</td>\n",
       "      <td>72.0</td>\n",
       "      <td>44.0</td>\n",
       "      <td>0.000</td>\n",
       "      <td>0.0</td>\n",
       "      <td>0.0</td>\n",
       "    </tr>\n",
       "    <tr>\n",
       "      <th>1</th>\n",
       "      <td>2012-10-03</td>\n",
       "      <td>66345</td>\n",
       "      <td>78.0</td>\n",
       "      <td>48.0</td>\n",
       "      <td>0.000</td>\n",
       "      <td>0.0</td>\n",
       "      <td>0.0</td>\n",
       "    </tr>\n",
       "    <tr>\n",
       "      <th>2</th>\n",
       "      <td>2012-10-04</td>\n",
       "      <td>89939</td>\n",
       "      <td>64.0</td>\n",
       "      <td>42.0</td>\n",
       "      <td>0.000</td>\n",
       "      <td>0.0</td>\n",
       "      <td>0.0</td>\n",
       "    </tr>\n",
       "    <tr>\n",
       "      <th>3</th>\n",
       "      <td>2012-10-05</td>\n",
       "      <td>93336</td>\n",
       "      <td>48.0</td>\n",
       "      <td>36.0</td>\n",
       "      <td>0.000</td>\n",
       "      <td>0.0</td>\n",
       "      <td>0.0</td>\n",
       "    </tr>\n",
       "    <tr>\n",
       "      <th>4</th>\n",
       "      <td>2012-10-06</td>\n",
       "      <td>74910</td>\n",
       "      <td>45.0</td>\n",
       "      <td>33.0</td>\n",
       "      <td>0.000</td>\n",
       "      <td>0.0</td>\n",
       "      <td>0.0</td>\n",
       "    </tr>\n",
       "    <tr>\n",
       "      <th>...</th>\n",
       "      <td>...</td>\n",
       "      <td>...</td>\n",
       "      <td>...</td>\n",
       "      <td>...</td>\n",
       "      <td>...</td>\n",
       "      <td>...</td>\n",
       "      <td>...</td>\n",
       "    </tr>\n",
       "    <tr>\n",
       "      <th>1855</th>\n",
       "      <td>2018-09-26</td>\n",
       "      <td>88627</td>\n",
       "      <td>62.0</td>\n",
       "      <td>44.0</td>\n",
       "      <td>0.000</td>\n",
       "      <td>0.0</td>\n",
       "      <td>0.0</td>\n",
       "    </tr>\n",
       "    <tr>\n",
       "      <th>1856</th>\n",
       "      <td>2018-09-27</td>\n",
       "      <td>94434</td>\n",
       "      <td>62.0</td>\n",
       "      <td>48.0</td>\n",
       "      <td>0.005</td>\n",
       "      <td>0.0</td>\n",
       "      <td>0.0</td>\n",
       "    </tr>\n",
       "    <tr>\n",
       "      <th>1857</th>\n",
       "      <td>2018-09-28</td>\n",
       "      <td>92518</td>\n",
       "      <td>56.0</td>\n",
       "      <td>39.0</td>\n",
       "      <td>0.000</td>\n",
       "      <td>0.0</td>\n",
       "      <td>0.0</td>\n",
       "    </tr>\n",
       "    <tr>\n",
       "      <th>1858</th>\n",
       "      <td>2018-09-29</td>\n",
       "      <td>76242</td>\n",
       "      <td>49.0</td>\n",
       "      <td>36.0</td>\n",
       "      <td>0.000</td>\n",
       "      <td>0.0</td>\n",
       "      <td>0.0</td>\n",
       "    </tr>\n",
       "    <tr>\n",
       "      <th>1859</th>\n",
       "      <td>2018-09-30</td>\n",
       "      <td>68785</td>\n",
       "      <td>55.0</td>\n",
       "      <td>46.0</td>\n",
       "      <td>0.000</td>\n",
       "      <td>0.0</td>\n",
       "      <td>0.0</td>\n",
       "    </tr>\n",
       "  </tbody>\n",
       "</table>\n",
       "<p>1860 rows × 7 columns</p>\n",
       "</div>"
      ],
      "text/plain": [
       "      date_time  traffic_volume  Maximum Temperature degrees (F)  \\\n",
       "0    2012-10-02           63289                             72.0   \n",
       "1    2012-10-03           66345                             78.0   \n",
       "2    2012-10-04           89939                             64.0   \n",
       "3    2012-10-05           93336                             48.0   \n",
       "4    2012-10-06           74910                             45.0   \n",
       "...         ...             ...                              ...   \n",
       "1855 2018-09-26           88627                             62.0   \n",
       "1856 2018-09-27           94434                             62.0   \n",
       "1857 2018-09-28           92518                             56.0   \n",
       "1858 2018-09-29           76242                             49.0   \n",
       "1859 2018-09-30           68785                             55.0   \n",
       "\n",
       "      Minimum Temperature degrees (F)  Precipitation (inches)  Snow (inches)  \\\n",
       "0                                44.0                   0.000            0.0   \n",
       "1                                48.0                   0.000            0.0   \n",
       "2                                42.0                   0.000            0.0   \n",
       "3                                36.0                   0.000            0.0   \n",
       "4                                33.0                   0.000            0.0   \n",
       "...                               ...                     ...            ...   \n",
       "1855                             44.0                   0.000            0.0   \n",
       "1856                             48.0                   0.005            0.0   \n",
       "1857                             39.0                   0.000            0.0   \n",
       "1858                             36.0                   0.000            0.0   \n",
       "1859                             46.0                   0.000            0.0   \n",
       "\n",
       "      Snow Depth (inches)  \n",
       "0                     0.0  \n",
       "1                     0.0  \n",
       "2                     0.0  \n",
       "3                     0.0  \n",
       "4                     0.0  \n",
       "...                   ...  \n",
       "1855                  0.0  \n",
       "1856                  0.0  \n",
       "1857                  0.0  \n",
       "1858                  0.0  \n",
       "1859                  0.0  \n",
       "\n",
       "[1860 rows x 7 columns]"
      ]
     },
     "execution_count": 227,
     "metadata": {},
     "output_type": "execute_result"
    }
   ],
   "source": [
    "traffic_2 = pd.merge(by_date,weather,left_on = 'date_time',right_on = 'Date')\n",
    "traffic_2.drop('Date',axis = 1,inplace = True)\n",
    "traffic_2"
   ]
  },
  {
   "cell_type": "code",
   "execution_count": 230,
   "metadata": {},
   "outputs": [
    {
     "data": {
      "text/plain": [
       "traffic_volume                     1.000000\n",
       "Maximum Temperature degrees (F)    0.037477\n",
       "Minimum Temperature degrees (F)    0.088820\n",
       "Precipitation (inches)             0.218367\n",
       "Snow (inches)                      0.020533\n",
       "Snow Depth (inches)               -0.066902\n",
       "Name: traffic_volume, dtype: float64"
      ]
     },
     "execution_count": 230,
     "metadata": {},
     "output_type": "execute_result"
    }
   ],
   "source": [
    "traffic_2.corr(numeric_only = True)['traffic_volume']"
   ]
  },
  {
   "cell_type": "markdown",
   "metadata": {},
   "source": [
    "# Trash - Delete if not needed"
   ]
  },
  {
   "cell_type": "code",
   "execution_count": null,
   "metadata": {},
   "outputs": [],
   "source": [
    "# Set style for rest of notebook\n",
    "sns.set_style('white')\n",
    "\n",
    "# Isolate the numperi columns\n",
    "numeric_cols = ['temp','rain_1h','snow_1h','clouds_all','traffic_volume']\n",
    "\n",
    "# Plot each numeric column in a grid of 1 x 5 boxplots  \n",
    "fig, axes = plt.subplots(1,5,figsize = (15,2))\n",
    "for i,c in enumerate(numeric_cols):\n",
    "    sns.boxplot(traffic[c],ax = axes[i])\n",
    "    axes[i].set_title(c)\n",
    "    \n",
    "plt.show()"
   ]
  },
  {
   "cell_type": "markdown",
   "metadata": {},
   "source": [
    "`traffic_volume` and `clouds_all` look good.  For `snow_1h`, all of the non-zero values show up as outliers, which makes sense as most hours there is no snow.  It's actually the outliers which will be of interest so we can handle those later.  `rain_1h` and `temp` have problems.  `rain_1h` appears to have at least one value around 10,000 mm (approx 39 inches).    Let's take a look at the actual values in that column.  Since the (highest rainfall ever recorded)[https://www.currentresults.com/Yearly-Weather/USA/MN/Minneapolis/extreme-annual-minneapolis-precipitation.php] for Minneapolis-St Paul was about 9.15 inches (232.4 millimetres), we can look for any values over 233 mm/hr. "
   ]
  },
  {
   "cell_type": "code",
   "execution_count": null,
   "metadata": {},
   "outputs": [],
   "source": [
    "traffic[traffic['rain_1h'] > 233]"
   ]
  },
  {
   "cell_type": "markdown",
   "metadata": {},
   "source": [
    "There really is just the one value.  We can make it NaN"
   ]
  },
  {
   "cell_type": "code",
   "execution_count": null,
   "metadata": {},
   "outputs": [],
   "source": [
    "traffic.loc[traffic['rain_1h'] > 232,'rain_1h'] = np.nan"
   ]
  },
  {
   "cell_type": "markdown",
   "metadata": {},
   "source": [
    "Now for temperature. According to the Minnesota Department of Natural Resources, the [lowest temperature ever recorded](https://www.dnr.state.mn.us/climate/journal/960202_60_below.html) in this area was -66 degrees F (-54.4444 C), we can use that as a filter"
   ]
  },
  {
   "cell_type": "code",
   "execution_count": null,
   "metadata": {},
   "outputs": [],
   "source": [
    "traffic[traffic['temp'] < 54]"
   ]
  },
  {
   "cell_type": "markdown",
   "metadata": {},
   "source": [
    "There are actually 9. But they're all zero so they showed as one.  We can remove them in the same fashion. "
   ]
  },
  {
   "cell_type": "code",
   "execution_count": null,
   "metadata": {},
   "outputs": [],
   "source": [
    "traffic.loc[traffic['temp'] ==0 ,'temp'] = np.nan"
   ]
  },
  {
   "cell_type": "code",
   "execution_count": null,
   "metadata": {},
   "outputs": [],
   "source": [
    "fig, axes = plt.subplots(1,5,figsize = (15,2))\n",
    "for i,c in enumerate(numeric_cols):\n",
    "    sns.boxplot(traffic[c],ax = axes[i])\n",
    "    axes[i].set_title(c)\n",
    "    \n",
    "plt.show()"
   ]
  },
  {
   "cell_type": "markdown",
   "metadata": {},
   "source": [
    "That looks better. There are no outliers in `temp` the plot for `rain_1h` values looks more like that for `snow_1h`, with all non-zero values being outliers.  We'll examine that shortly. "
   ]
  }
 ],
 "metadata": {
  "kernelspec": {
   "display_name": "Python 3 (ipykernel)",
   "language": "python",
   "name": "python3"
  },
  "language_info": {
   "codemirror_mode": {
    "name": "ipython",
    "version": 3
   },
   "file_extension": ".py",
   "mimetype": "text/x-python",
   "name": "python",
   "nbconvert_exporter": "python",
   "pygments_lexer": "ipython3",
   "version": "3.10.9"
  }
 },
 "nbformat": 4,
 "nbformat_minor": 4
}
