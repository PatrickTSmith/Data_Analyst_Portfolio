{
 "cells": [
  {
   "cell_type": "markdown",
   "metadata": {},
   "source": [
    "# Analyzing Helicopter Prison Escapes\n",
    "\n",
    "## Introduction\n",
    "\n",
    "Imagine a daring prison escape, with a helicopter swooping in to free the inmates. It's a dramatic scene often depicted in movies and television shows, but does it happen in real life? Surprisingly, helicopter prison escapes do occur, and in this project, we will delve into the data to uncover interesting patterns.\n",
    "\n",
    "This project is a rework of an early project in my Dataquest Data Analytics course.  It originally used lists and helper functions provided by the site, but I decided to redo it using Pandas as a challenge and because Pandas is much easier to work with than lists in many ways.\n",
    "\n",
    "The dataset is pulled from a [Wikipedia page](https://en.wikipedia.org/wiki/List_of_helicopter_prison_escapes).  It spans the years 1971 - 2020 and includes the exact date, prison name, country, name of escapees, and a text description of the escape.  By analyzing the number of attempts made per year since 1971 and examining the countries where these attempts are most prevalent, we aim to gain insights into the world of helicopter prison escapes. "
   ]
  },
  {
   "cell_type": "markdown",
   "metadata": {},
   "source": [
    "## Get the Data\n",
    "\n",
    "Our first step is to import the data and get a look at it.  We'll be importing it from the Wikipedia page mentioned above."
   ]
  },
  {
   "cell_type": "code",
   "execution_count": 1,
   "metadata": {},
   "outputs": [],
   "source": [
    "import numpy as np\n",
    "import pandas as pd\n",
    "\n",
    "import matplotlib.pyplot as plt\n",
    "%matplotlib inline"
   ]
  },
  {
   "cell_type": "code",
   "execution_count": 2,
   "metadata": {
    "scrolled": true
   },
   "outputs": [
    {
     "data": {
      "text/html": [
       "<div>\n",
       "<style scoped>\n",
       "    .dataframe tbody tr th:only-of-type {\n",
       "        vertical-align: middle;\n",
       "    }\n",
       "\n",
       "    .dataframe tbody tr th {\n",
       "        vertical-align: top;\n",
       "    }\n",
       "\n",
       "    .dataframe thead th {\n",
       "        text-align: right;\n",
       "    }\n",
       "</style>\n",
       "<table border=\"1\" class=\"dataframe\">\n",
       "  <thead>\n",
       "    <tr style=\"text-align: right;\">\n",
       "      <th></th>\n",
       "      <th>Date</th>\n",
       "      <th>Prison name</th>\n",
       "      <th>Country</th>\n",
       "      <th>Succeeded</th>\n",
       "      <th>Escapee(s)</th>\n",
       "      <th>Details</th>\n",
       "    </tr>\n",
       "  </thead>\n",
       "  <tbody>\n",
       "    <tr>\n",
       "      <th>0</th>\n",
       "      <td>August 19, 1971</td>\n",
       "      <td>Santa Martha Acatitla</td>\n",
       "      <td>Mexico</td>\n",
       "      <td>Yes</td>\n",
       "      <td>Joel David Kaplan Carlos Antonio Contreras Castro</td>\n",
       "      <td>Joel David Kaplan was a New York businessman w...</td>\n",
       "    </tr>\n",
       "    <tr>\n",
       "      <th>1</th>\n",
       "      <td>October 31, 1973</td>\n",
       "      <td>Mountjoy Jail</td>\n",
       "      <td>Ireland</td>\n",
       "      <td>Yes</td>\n",
       "      <td>JB O'Hagan Seamus TwomeyKevin Mallon</td>\n",
       "      <td>On October 31, 1973, an IRA member hijacked a ...</td>\n",
       "    </tr>\n",
       "    <tr>\n",
       "      <th>2</th>\n",
       "      <td>May 24, 1978</td>\n",
       "      <td>United States Penitentiary, Marion</td>\n",
       "      <td>United States</td>\n",
       "      <td>No</td>\n",
       "      <td>Garrett Brock TrapnellMartin Joseph McNallyJam...</td>\n",
       "      <td>43-year-old Barbara Ann Oswald hijacked a Sain...</td>\n",
       "    </tr>\n",
       "    <tr>\n",
       "      <th>3</th>\n",
       "      <td>February 27, 1981</td>\n",
       "      <td>Fleury-Mérogis, Essonne, Ile de France</td>\n",
       "      <td>France</td>\n",
       "      <td>Yes</td>\n",
       "      <td>Gérard DupréDaniel Beaumont</td>\n",
       "      <td>With the help of Serge Coutel, Gérard Dupré an...</td>\n",
       "    </tr>\n",
       "    <tr>\n",
       "      <th>4</th>\n",
       "      <td>May 7, 1981</td>\n",
       "      <td>Orsainville Prison, Quebec City</td>\n",
       "      <td>Canada</td>\n",
       "      <td>No</td>\n",
       "      <td>Marina Paquet (hijacker)Giles Arseneault (pris...</td>\n",
       "      <td>Marina Paquet held a sawed off shotgun against...</td>\n",
       "    </tr>\n",
       "  </tbody>\n",
       "</table>\n",
       "</div>"
      ],
      "text/plain": [
       "                Date                             Prison name        Country  \\\n",
       "0    August 19, 1971                   Santa Martha Acatitla         Mexico   \n",
       "1   October 31, 1973                           Mountjoy Jail        Ireland   \n",
       "2       May 24, 1978      United States Penitentiary, Marion  United States   \n",
       "3  February 27, 1981  Fleury-Mérogis, Essonne, Ile de France         France   \n",
       "4        May 7, 1981         Orsainville Prison, Quebec City         Canada   \n",
       "\n",
       "  Succeeded                                         Escapee(s)  \\\n",
       "0       Yes  Joel David Kaplan Carlos Antonio Contreras Castro   \n",
       "1       Yes               JB O'Hagan Seamus TwomeyKevin Mallon   \n",
       "2        No  Garrett Brock TrapnellMartin Joseph McNallyJam...   \n",
       "3       Yes                        Gérard DupréDaniel Beaumont   \n",
       "4        No  Marina Paquet (hijacker)Giles Arseneault (pris...   \n",
       "\n",
       "                                             Details  \n",
       "0  Joel David Kaplan was a New York businessman w...  \n",
       "1  On October 31, 1973, an IRA member hijacked a ...  \n",
       "2  43-year-old Barbara Ann Oswald hijacked a Sain...  \n",
       "3  With the help of Serge Coutel, Gérard Dupré an...  \n",
       "4  Marina Paquet held a sawed off shotgun against...  "
      ]
     },
     "execution_count": 2,
     "metadata": {},
     "output_type": "execute_result"
    }
   ],
   "source": [
    "url = 'https://en.wikipedia.org/wiki/List_of_helicopter_prison_escapes'\n",
    "\n",
    "# Import from url\n",
    "escapes = pd.read_html(url)[1]\n",
    "\n",
    "# Check the results\n",
    "escapes.head()"
   ]
  },
  {
   "cell_type": "code",
   "execution_count": 3,
   "metadata": {},
   "outputs": [
    {
     "name": "stdout",
     "output_type": "stream",
     "text": [
      "<class 'pandas.core.frame.DataFrame'>\n",
      "RangeIndex: 48 entries, 0 to 47\n",
      "Data columns (total 6 columns):\n",
      " #   Column       Non-Null Count  Dtype \n",
      "---  ------       --------------  ----- \n",
      " 0   Date         48 non-null     object\n",
      " 1   Prison name  48 non-null     object\n",
      " 2   Country      48 non-null     object\n",
      " 3   Succeeded    48 non-null     object\n",
      " 4   Escapee(s)   48 non-null     object\n",
      " 5   Details      48 non-null     object\n",
      "dtypes: object(6)\n",
      "memory usage: 2.4+ KB\n"
     ]
    }
   ],
   "source": [
    "escapes.info()"
   ]
  },
  {
   "cell_type": "code",
   "execution_count": 4,
   "metadata": {},
   "outputs": [
    {
     "data": {
      "text/html": [
       "<div>\n",
       "<style scoped>\n",
       "    .dataframe tbody tr th:only-of-type {\n",
       "        vertical-align: middle;\n",
       "    }\n",
       "\n",
       "    .dataframe tbody tr th {\n",
       "        vertical-align: top;\n",
       "    }\n",
       "\n",
       "    .dataframe thead th {\n",
       "        text-align: right;\n",
       "    }\n",
       "</style>\n",
       "<table border=\"1\" class=\"dataframe\">\n",
       "  <thead>\n",
       "    <tr style=\"text-align: right;\">\n",
       "      <th></th>\n",
       "      <th>Date</th>\n",
       "      <th>Prison name</th>\n",
       "      <th>Country</th>\n",
       "      <th>Succeeded</th>\n",
       "      <th>Escapee(s)</th>\n",
       "      <th>Details</th>\n",
       "    </tr>\n",
       "  </thead>\n",
       "  <tbody>\n",
       "    <tr>\n",
       "      <th>count</th>\n",
       "      <td>48</td>\n",
       "      <td>48</td>\n",
       "      <td>48</td>\n",
       "      <td>48</td>\n",
       "      <td>48</td>\n",
       "      <td>48</td>\n",
       "    </tr>\n",
       "    <tr>\n",
       "      <th>unique</th>\n",
       "      <td>48</td>\n",
       "      <td>45</td>\n",
       "      <td>15</td>\n",
       "      <td>2</td>\n",
       "      <td>40</td>\n",
       "      <td>48</td>\n",
       "    </tr>\n",
       "    <tr>\n",
       "      <th>top</th>\n",
       "      <td>September 25, 2020</td>\n",
       "      <td>Luynes prison</td>\n",
       "      <td>France</td>\n",
       "      <td>Yes</td>\n",
       "      <td>—</td>\n",
       "      <td>Famous Apache Boat owner and racer Ben Kramer ...</td>\n",
       "    </tr>\n",
       "    <tr>\n",
       "      <th>freq</th>\n",
       "      <td>1</td>\n",
       "      <td>2</td>\n",
       "      <td>15</td>\n",
       "      <td>34</td>\n",
       "      <td>7</td>\n",
       "      <td>1</td>\n",
       "    </tr>\n",
       "  </tbody>\n",
       "</table>\n",
       "</div>"
      ],
      "text/plain": [
       "                      Date    Prison name Country Succeeded Escapee(s)  \\\n",
       "count                   48             48      48        48         48   \n",
       "unique                  48             45      15         2         40   \n",
       "top     September 25, 2020  Luynes prison  France       Yes          —   \n",
       "freq                     1              2      15        34          7   \n",
       "\n",
       "                                                  Details  \n",
       "count                                                  48  \n",
       "unique                                                 48  \n",
       "top     Famous Apache Boat owner and racer Ben Kramer ...  \n",
       "freq                                                    1  "
      ]
     },
     "execution_count": 4,
     "metadata": {},
     "output_type": "execute_result"
    }
   ],
   "source": [
    "escapes.describe()"
   ]
  },
  {
   "cell_type": "markdown",
   "metadata": {},
   "source": [
    "## Removing the Details\n",
    "\n",
    "The dataset contains 48 rows and 6 columns.  The last column, \"Details\" contains a lot of text and we won't be using it, so we can drop it. "
   ]
  },
  {
   "cell_type": "code",
   "execution_count": 5,
   "metadata": {},
   "outputs": [
    {
     "data": {
      "text/html": [
       "<div>\n",
       "<style scoped>\n",
       "    .dataframe tbody tr th:only-of-type {\n",
       "        vertical-align: middle;\n",
       "    }\n",
       "\n",
       "    .dataframe tbody tr th {\n",
       "        vertical-align: top;\n",
       "    }\n",
       "\n",
       "    .dataframe thead th {\n",
       "        text-align: right;\n",
       "    }\n",
       "</style>\n",
       "<table border=\"1\" class=\"dataframe\">\n",
       "  <thead>\n",
       "    <tr style=\"text-align: right;\">\n",
       "      <th></th>\n",
       "      <th>Date</th>\n",
       "      <th>Prison name</th>\n",
       "      <th>Country</th>\n",
       "      <th>Succeeded</th>\n",
       "      <th>Escapee(s)</th>\n",
       "    </tr>\n",
       "  </thead>\n",
       "  <tbody>\n",
       "    <tr>\n",
       "      <th>0</th>\n",
       "      <td>August 19, 1971</td>\n",
       "      <td>Santa Martha Acatitla</td>\n",
       "      <td>Mexico</td>\n",
       "      <td>Yes</td>\n",
       "      <td>Joel David Kaplan Carlos Antonio Contreras Castro</td>\n",
       "    </tr>\n",
       "    <tr>\n",
       "      <th>1</th>\n",
       "      <td>October 31, 1973</td>\n",
       "      <td>Mountjoy Jail</td>\n",
       "      <td>Ireland</td>\n",
       "      <td>Yes</td>\n",
       "      <td>JB O'Hagan Seamus TwomeyKevin Mallon</td>\n",
       "    </tr>\n",
       "    <tr>\n",
       "      <th>2</th>\n",
       "      <td>May 24, 1978</td>\n",
       "      <td>United States Penitentiary, Marion</td>\n",
       "      <td>United States</td>\n",
       "      <td>No</td>\n",
       "      <td>Garrett Brock TrapnellMartin Joseph McNallyJam...</td>\n",
       "    </tr>\n",
       "    <tr>\n",
       "      <th>3</th>\n",
       "      <td>February 27, 1981</td>\n",
       "      <td>Fleury-Mérogis, Essonne, Ile de France</td>\n",
       "      <td>France</td>\n",
       "      <td>Yes</td>\n",
       "      <td>Gérard DupréDaniel Beaumont</td>\n",
       "    </tr>\n",
       "    <tr>\n",
       "      <th>4</th>\n",
       "      <td>May 7, 1981</td>\n",
       "      <td>Orsainville Prison, Quebec City</td>\n",
       "      <td>Canada</td>\n",
       "      <td>No</td>\n",
       "      <td>Marina Paquet (hijacker)Giles Arseneault (pris...</td>\n",
       "    </tr>\n",
       "  </tbody>\n",
       "</table>\n",
       "</div>"
      ],
      "text/plain": [
       "                Date                             Prison name        Country  \\\n",
       "0    August 19, 1971                   Santa Martha Acatitla         Mexico   \n",
       "1   October 31, 1973                           Mountjoy Jail        Ireland   \n",
       "2       May 24, 1978      United States Penitentiary, Marion  United States   \n",
       "3  February 27, 1981  Fleury-Mérogis, Essonne, Ile de France         France   \n",
       "4        May 7, 1981         Orsainville Prison, Quebec City         Canada   \n",
       "\n",
       "  Succeeded                                         Escapee(s)  \n",
       "0       Yes  Joel David Kaplan Carlos Antonio Contreras Castro  \n",
       "1       Yes               JB O'Hagan Seamus TwomeyKevin Mallon  \n",
       "2        No  Garrett Brock TrapnellMartin Joseph McNallyJam...  \n",
       "3       Yes                        Gérard DupréDaniel Beaumont  \n",
       "4        No  Marina Paquet (hijacker)Giles Arseneault (pris...  "
      ]
     },
     "execution_count": 5,
     "metadata": {},
     "output_type": "execute_result"
    }
   ],
   "source": [
    "escapes.drop('Details',axis = 1,inplace = True)\n",
    "escapes.head()"
   ]
  },
  {
   "cell_type": "markdown",
   "metadata": {},
   "source": [
    "## Total Attempts and Percent of Successful Attempts\n",
    "\n",
    "To get an overall sense of the data, let's find out the overall number of attempts, the number of successful ones and the success rate. "
   ]
  },
  {
   "cell_type": "code",
   "execution_count": 6,
   "metadata": {},
   "outputs": [
    {
     "name": "stdout",
     "output_type": "stream",
     "text": [
      "-----------------------------------\n",
      "Total Attempts:              48\n",
      "Successful Escapes:          34\n",
      "Success Rate:              71.0 %\n",
      "-----------------------------------\n"
     ]
    }
   ],
   "source": [
    "# Calculate the total from the length of dataframe = total rows\n",
    "total_attempts = len(escapes)\n",
    "\n",
    "# Get count of successes: Extract \"Yes\" value from Value counts of `Succeeded` column\n",
    "successful_escapes = int(escapes[\"Succeeded\"].value_counts()[\"Yes\"])\n",
    "\n",
    "# Calculate success rate\n",
    "percent_successful = round((successful_escapes/total_attempts)*100,0)\n",
    "\n",
    "# Output results\n",
    "print('-----------------------------------')\n",
    "print(f\"{'Total Attempts:':<20} {total_attempts:>10}\")\n",
    "print(f\"{'Successful Escapes:':<20} {successful_escapes:>10}\")\n",
    "print(f\"{'Success Rate:':<20} {percent_successful:>10} %\")\n",
    "print('-----------------------------------')"
   ]
  },
  {
   "cell_type": "markdown",
   "metadata": {},
   "source": [
    "An average of nearly 1 attempt per year and a success rate of almost 71%. That is rather impressive!"
   ]
  },
  {
   "cell_type": "markdown",
   "metadata": {},
   "source": [
    "## Attempts Per Year\n",
    "\n",
    "Now we'll begin taking a more granular look at the data, beginning with the number of escapes per year. Since the dates in the `Date` column are uniform, we can use string slicing to extract the last 4 characters of each string. Then we can create a pivot table to get the count of attempts per year.  Since there are some years with no attempts, we'll add those years to the pivot table with a count of zero. "
   ]
  },
  {
   "cell_type": "code",
   "execution_count": 7,
   "metadata": {},
   "outputs": [
    {
     "data": {
      "text/plain": [
       "Year\n",
       "1971    1\n",
       "1972    0\n",
       "1973    1\n",
       "1974    0\n",
       "1975    0\n",
       "1976    0\n",
       "1977    0\n",
       "1978    1\n",
       "1979    0\n",
       "1980    0\n",
       "1981    2\n",
       "1982    0\n",
       "1983    1\n",
       "1984    0\n",
       "1985    2\n",
       "1986    3\n",
       "1987    1\n",
       "1988    1\n",
       "1989    2\n",
       "1990    1\n",
       "1991    1\n",
       "1992    2\n",
       "1993    1\n",
       "1994    0\n",
       "1995    0\n",
       "1996    1\n",
       "1997    1\n",
       "1998    0\n",
       "1999    1\n",
       "2000    2\n",
       "2001    3\n",
       "2002    2\n",
       "2003    1\n",
       "2004    0\n",
       "2005    2\n",
       "2006    1\n",
       "2007    3\n",
       "2008    0\n",
       "2009    3\n",
       "2010    1\n",
       "2011    0\n",
       "2012    1\n",
       "2013    2\n",
       "2014    1\n",
       "2015    0\n",
       "2016    1\n",
       "2017    0\n",
       "2018    1\n",
       "2019    0\n",
       "2020    1\n",
       "dtype: int64"
      ]
     },
     "execution_count": 7,
     "metadata": {},
     "output_type": "execute_result"
    }
   ],
   "source": [
    "# Exctract Year as new column\n",
    "escapes[\"Year\"] = escapes[\"Date\"].str.slice(start = -4)\n",
    "\n",
    "# Get totals of success/failure by year\n",
    "attempts_by_year = pd.pivot_table(\n",
    "    escapes,\n",
    "    index = ['Year'],\n",
    "    aggfunc = 'size',\n",
    "    fill_value = 0)\n",
    "\n",
    "# Get starting and ending year\n",
    "min_year = int(attempts_by_year.index.min())\n",
    "max_year = int(attempts_by_year.index.max())\n",
    "\n",
    "# Create list of all years between min and max\n",
    "years = []\n",
    "for y in range(min_year, max_year + 1):\n",
    "     years.append(str(y))  #if you don't make it a string, all lines will come out NaN. \n",
    "        \n",
    "#reindex the series to add missing years\n",
    "attempts_by_year = attempts_by_year.reindex(years,fill_value = 0) \n",
    "attempts_by_year = attempts_by_year.sort_index(ascending = True) #reorder to make graph in ascending order\n",
    "attempts_by_year\n",
    "\n",
    "# Print results\n",
    "attempts_by_year"
   ]
  },
  {
   "cell_type": "markdown",
   "metadata": {},
   "source": [
    "There have been between 0 and 3 attempts per year. It appears that mostly there was only one attempt per year with a smattering of years with 2 and 3.  Let's find out the actual breakdown. "
   ]
  },
  {
   "cell_type": "code",
   "execution_count": 8,
   "metadata": {},
   "outputs": [
    {
     "data": {
      "text/plain": [
       "1    20\n",
       "0    18\n",
       "2     8\n",
       "3     4\n",
       "dtype: int64"
      ]
     },
     "execution_count": 8,
     "metadata": {},
     "output_type": "execute_result"
    }
   ],
   "source": [
    "# Calculate Totals\n",
    "attempts_by_year.value_counts()"
   ]
  },
  {
   "cell_type": "code",
   "execution_count": 9,
   "metadata": {},
   "outputs": [
    {
     "data": {
      "text/plain": [
       "1    0.40\n",
       "0    0.36\n",
       "2    0.16\n",
       "3    0.08\n",
       "dtype: float64"
      ]
     },
     "execution_count": 9,
     "metadata": {},
     "output_type": "execute_result"
    }
   ],
   "source": [
    "# Calculate Percentages\n",
    "attempts_by_year.value_counts(dropna=False,normalize = True)"
   ]
  },
  {
   "cell_type": "code",
   "execution_count": 10,
   "metadata": {},
   "outputs": [
    {
     "data": {
      "image/png": "[encoded data removed]",
      "text/plain": [
       "<Figure size 720x360 with 1 Axes>"
      ]
     },
     "metadata": {
      "needs_background": "light"
     },
     "output_type": "display_data"
    }
   ],
   "source": [
    "#Create Histogram\n",
    "attempts_by_year.plot.hist(figsize = (10,5),bins = np.arange(5)-.15,width = .3) \n",
    "    # using this arange and width centers bars on xticks\n",
    "    # using arange(4) cuts off bar for 3. Have to bump up to 5\n",
    "\n",
    "# Format the chart\n",
    "plt.title(\"Number of Years with 0 - 3 Escape Attempts 1971-2020\")\n",
    "plt.xticks(range(4))  # gets rid of half-steps\n",
    "plt.xlim((-.5,3.5)) #gets rid of white space made by using np.arange(4)\n",
    "plt.xlabel(\"Attempts Per Year\")\n",
    "\n",
    "plt.show()"
   ]
  },
  {
   "cell_type": "markdown",
   "metadata": {},
   "source": [
    "Only 18 of 50 years (36%) saw no escape attempts. As expected, 20 years with an attempt there was only one.  Nearly half as many (8) had 2 attempts, and half again (4) had 3.  As difficult and rare as such events occur, it's unsurprising to see such an inverse correlation.   "
   ]
  },
  {
   "cell_type": "markdown",
   "metadata": {},
   "source": [
    "## Visualizing Attempts Per Year\n",
    "\n",
    "Now we'll plot the attempts per year so we can better see how they're distributed."
   ]
  },
  {
   "cell_type": "code",
   "execution_count": 11,
   "metadata": {},
   "outputs": [
    {
     "data": {
      "image/png": "[encoded data removed]",
      "text/plain": [
       "<Figure size 1080x360 with 1 Axes>"
      ]
     },
     "metadata": {
      "needs_background": "light"
     },
     "output_type": "display_data"
    }
   ],
   "source": [
    "# Create bar chart from pivot table\n",
    "attempts_by_year.plot.bar(figsize = (15,5))\n",
    "\n",
    "# Format\n",
    "plt.title(\"Total Worldwide Helicopter Escape Attempts By Year, 1971-2020\")\n",
    "plt.ylabel(\"Number of Attempts\")\n",
    "plt.xlabel(\"Year\")\n",
    "plt.xticks(rotation = 45)\n",
    "\n",
    "plt.show()"
   ]
  },
  {
   "cell_type": "markdown",
   "metadata": {},
   "source": [
    "We can also highlight successful vs unsuccessful attempts"
   ]
  },
  {
   "cell_type": "code",
   "execution_count": 12,
   "metadata": {},
   "outputs": [
    {
     "data": {
      "image/png": "[encoded data removed]",
      "text/plain": [
       "<Figure size 1080x360 with 1 Axes>"
      ]
     },
     "metadata": {
      "needs_background": "light"
     },
     "output_type": "display_data"
    }
   ],
   "source": [
    "# Get totals of success/failure by year\n",
    "attempts_by_year2 = pd.pivot_table(\n",
    "    escapes,\n",
    "    index = ['Year'],\n",
    "    columns = ['Succeeded'],\n",
    "    aggfunc = 'size',\n",
    "    fill_value = 0)\n",
    "\n",
    "# Get starting and ending year\n",
    "min_year = int(attempts_by_year2.index.min())\n",
    "max_year = int(attempts_by_year2.index.max())\n",
    "\n",
    "# Create list of all years between min and max\n",
    "years = []\n",
    "for y in range(min_year, max_year + 1):\n",
    "     years.append(str(y))  #if you don't make it a string, all lines will come out NaN. \n",
    "        \n",
    "#reindex the series to add missing years\n",
    "attempts_by_year2 = attempts_by_year2.reindex(years) \n",
    "attempts_by_year2 = attempts_by_year2.sort_index(ascending = True) #reorder to make graph in ascending order\n",
    "attempts_by_year2\n",
    "\n",
    "#Graph the result\n",
    "attempts_by_year2.plot.bar(stacked = True,figsize = (15,5))\n",
    "\n",
    "plt.title(\"Total Worldwide Helicopter Escape Attempts By Year, 1971-2020\")\n",
    "plt.ylabel(\"Number of Attempts\")\n",
    "plt.xlabel(\"Year\")\n",
    "plt.xticks(rotation = 45)\n",
    "\n",
    "plt.show()"
   ]
  },
  {
   "cell_type": "markdown",
   "metadata": {},
   "source": [
    "The years with the most attempts are a tie between 1986, 2001, 2007, and 2009, all with 3 attempts. There were only 3 in the 1970s. The number appears to increase each decade into the 2000s, when we see 3 of the years with 3 attempts, then drops off in the 2010s. It might be interesting to research why there was such a peak in the first decade of the century and then a decline in the second.  "
   ]
  },
  {
   "cell_type": "markdown",
   "metadata": {},
   "source": [
    "## Attempts by Country\n",
    "\n",
    "Next, let's look at how the attempts have been distributed by country.  "
   ]
  },
  {
   "cell_type": "code",
   "execution_count": 13,
   "metadata": {},
   "outputs": [
    {
     "data": {
      "image/png": "[encoded data removed]",
      "text/plain": [
       "<Figure size 1080x504 with 1 Axes>"
      ]
     },
     "metadata": {
      "needs_background": "light"
     },
     "output_type": "display_data"
    }
   ],
   "source": [
    "# Get the counts by country\n",
    "attempts_by_country = escapes[\"Country\"].value_counts()\n",
    "attempts_by_country\n",
    "\n",
    "# Plot the result\n",
    "attempts_by_country.plot.barh(figsize = (15,7))\n",
    "\n",
    "# Format\n",
    "plt.title(\"Number of Helicopter Escape Attempts By Country, 1971-2020\")\n",
    "plt.xlabel(\"Number of Attempts\")\n",
    "plt.gca().invert_yaxis()  #Puts country with the highest count at top\n",
    "\n",
    "plt.show()"
   ]
  },
  {
   "cell_type": "markdown",
   "metadata": {},
   "source": [
    "France is the clear leader with 15 attempts, followed by the US with 8.  No other country on the list has more than 4 attempts. "
   ]
  },
  {
   "cell_type": "markdown",
   "metadata": {},
   "source": [
    "## Successful Attempts by Country\n",
    "\n",
    "Now we'll dig a little deeper to determine in which countries helicopter prison breaks have a higher chance of success. We know from earlier that the overall success rate was just shy of 71% so we'll use that as our benchmark "
   ]
  },
  {
   "cell_type": "code",
   "execution_count": 14,
   "metadata": {},
   "outputs": [],
   "source": [
    "# Get counts of Yes and No by country\n",
    "success_rate_by_country = pd.pivot_table(\n",
    "    escapes,\n",
    "    index = ['Country'],\n",
    "    columns = ['Succeeded'],\n",
    "    aggfunc = 'size',\n",
    "    fill_value = 0)\n",
    "\n",
    "# Add Column for Total Attempts\n",
    "success_rate_by_country['Total'] = success_rate_by_country[['No','Yes']].sum(axis = 1)\n",
    "\n",
    "# Calculate percent of successful attempts and round to 0 decimal points\n",
    "success_rate_by_country['Success Rate'] = round(success_rate_by_country['Yes']/success_rate_by_country['Total']*100,0)"
   ]
  },
  {
   "cell_type": "code",
   "execution_count": 15,
   "metadata": {},
   "outputs": [
    {
     "data": {
      "text/html": [
       "<div>\n",
       "<style scoped>\n",
       "    .dataframe tbody tr th:only-of-type {\n",
       "        vertical-align: middle;\n",
       "    }\n",
       "\n",
       "    .dataframe tbody tr th {\n",
       "        vertical-align: top;\n",
       "    }\n",
       "\n",
       "    .dataframe thead th {\n",
       "        text-align: right;\n",
       "    }\n",
       "</style>\n",
       "<table border=\"1\" class=\"dataframe\">\n",
       "  <thead>\n",
       "    <tr style=\"text-align: right;\">\n",
       "      <th>Succeeded</th>\n",
       "      <th>No</th>\n",
       "      <th>Yes</th>\n",
       "      <th>Total</th>\n",
       "      <th>Success Rate</th>\n",
       "    </tr>\n",
       "    <tr>\n",
       "      <th>Country</th>\n",
       "      <th></th>\n",
       "      <th></th>\n",
       "      <th></th>\n",
       "      <th></th>\n",
       "    </tr>\n",
       "  </thead>\n",
       "  <tbody>\n",
       "    <tr>\n",
       "      <th>Brazil</th>\n",
       "      <td>0</td>\n",
       "      <td>2</td>\n",
       "      <td>2</td>\n",
       "      <td>100.0</td>\n",
       "    </tr>\n",
       "    <tr>\n",
       "      <th>Chile</th>\n",
       "      <td>0</td>\n",
       "      <td>1</td>\n",
       "      <td>1</td>\n",
       "      <td>100.0</td>\n",
       "    </tr>\n",
       "    <tr>\n",
       "      <th>Ireland</th>\n",
       "      <td>0</td>\n",
       "      <td>1</td>\n",
       "      <td>1</td>\n",
       "      <td>100.0</td>\n",
       "    </tr>\n",
       "    <tr>\n",
       "      <th>Italy</th>\n",
       "      <td>0</td>\n",
       "      <td>1</td>\n",
       "      <td>1</td>\n",
       "      <td>100.0</td>\n",
       "    </tr>\n",
       "    <tr>\n",
       "      <th>Mexico</th>\n",
       "      <td>0</td>\n",
       "      <td>1</td>\n",
       "      <td>1</td>\n",
       "      <td>100.0</td>\n",
       "    </tr>\n",
       "    <tr>\n",
       "      <th>Puerto Rico</th>\n",
       "      <td>0</td>\n",
       "      <td>1</td>\n",
       "      <td>1</td>\n",
       "      <td>100.0</td>\n",
       "    </tr>\n",
       "    <tr>\n",
       "      <th>Russia</th>\n",
       "      <td>0</td>\n",
       "      <td>1</td>\n",
       "      <td>1</td>\n",
       "      <td>100.0</td>\n",
       "    </tr>\n",
       "    <tr>\n",
       "      <th>Canada</th>\n",
       "      <td>1</td>\n",
       "      <td>3</td>\n",
       "      <td>4</td>\n",
       "      <td>75.0</td>\n",
       "    </tr>\n",
       "    <tr>\n",
       "      <th>United States</th>\n",
       "      <td>2</td>\n",
       "      <td>6</td>\n",
       "      <td>8</td>\n",
       "      <td>75.0</td>\n",
       "    </tr>\n",
       "    <tr>\n",
       "      <th>France</th>\n",
       "      <td>4</td>\n",
       "      <td>11</td>\n",
       "      <td>15</td>\n",
       "      <td>73.0</td>\n",
       "    </tr>\n",
       "    <tr>\n",
       "      <th>Australia</th>\n",
       "      <td>1</td>\n",
       "      <td>1</td>\n",
       "      <td>2</td>\n",
       "      <td>50.0</td>\n",
       "    </tr>\n",
       "    <tr>\n",
       "      <th>Belgium</th>\n",
       "      <td>2</td>\n",
       "      <td>2</td>\n",
       "      <td>4</td>\n",
       "      <td>50.0</td>\n",
       "    </tr>\n",
       "    <tr>\n",
       "      <th>Greece</th>\n",
       "      <td>2</td>\n",
       "      <td>2</td>\n",
       "      <td>4</td>\n",
       "      <td>50.0</td>\n",
       "    </tr>\n",
       "    <tr>\n",
       "      <th>United Kingdom</th>\n",
       "      <td>1</td>\n",
       "      <td>1</td>\n",
       "      <td>2</td>\n",
       "      <td>50.0</td>\n",
       "    </tr>\n",
       "    <tr>\n",
       "      <th>Netherlands</th>\n",
       "      <td>1</td>\n",
       "      <td>0</td>\n",
       "      <td>1</td>\n",
       "      <td>0.0</td>\n",
       "    </tr>\n",
       "  </tbody>\n",
       "</table>\n",
       "</div>"
      ],
      "text/plain": [
       "Succeeded       No  Yes  Total  Success Rate\n",
       "Country                                     \n",
       "Brazil           0    2      2         100.0\n",
       "Chile            0    1      1         100.0\n",
       "Ireland          0    1      1         100.0\n",
       "Italy            0    1      1         100.0\n",
       "Mexico           0    1      1         100.0\n",
       "Puerto Rico      0    1      1         100.0\n",
       "Russia           0    1      1         100.0\n",
       "Canada           1    3      4          75.0\n",
       "United States    2    6      8          75.0\n",
       "France           4   11     15          73.0\n",
       "Australia        1    1      2          50.0\n",
       "Belgium          2    2      4          50.0\n",
       "Greece           2    2      4          50.0\n",
       "United Kingdom   1    1      2          50.0\n",
       "Netherlands      1    0      1           0.0"
      ]
     },
     "execution_count": 15,
     "metadata": {},
     "output_type": "execute_result"
    }
   ],
   "source": [
    "success_rate_by_country.sort_values(\"Success Rate\",ascending = False)"
   ]
  },
  {
   "cell_type": "markdown",
   "metadata": {},
   "source": [
    "Countries with only 1 or 2 attempts skew our results. Let's look at just countries with 4 or more. Then we can take a look at the average success rate for countries with fewer. "
   ]
  },
  {
   "cell_type": "code",
   "execution_count": 16,
   "metadata": {},
   "outputs": [
    {
     "data": {
      "text/html": [
       "<div>\n",
       "<style scoped>\n",
       "    .dataframe tbody tr th:only-of-type {\n",
       "        vertical-align: middle;\n",
       "    }\n",
       "\n",
       "    .dataframe tbody tr th {\n",
       "        vertical-align: top;\n",
       "    }\n",
       "\n",
       "    .dataframe thead th {\n",
       "        text-align: right;\n",
       "    }\n",
       "</style>\n",
       "<table border=\"1\" class=\"dataframe\">\n",
       "  <thead>\n",
       "    <tr style=\"text-align: right;\">\n",
       "      <th>Succeeded</th>\n",
       "      <th>No</th>\n",
       "      <th>Yes</th>\n",
       "      <th>Total</th>\n",
       "      <th>Success Rate</th>\n",
       "    </tr>\n",
       "    <tr>\n",
       "      <th>Country</th>\n",
       "      <th></th>\n",
       "      <th></th>\n",
       "      <th></th>\n",
       "      <th></th>\n",
       "    </tr>\n",
       "  </thead>\n",
       "  <tbody>\n",
       "    <tr>\n",
       "      <th>Canada</th>\n",
       "      <td>1</td>\n",
       "      <td>3</td>\n",
       "      <td>4</td>\n",
       "      <td>75.0</td>\n",
       "    </tr>\n",
       "    <tr>\n",
       "      <th>United States</th>\n",
       "      <td>2</td>\n",
       "      <td>6</td>\n",
       "      <td>8</td>\n",
       "      <td>75.0</td>\n",
       "    </tr>\n",
       "    <tr>\n",
       "      <th>France</th>\n",
       "      <td>4</td>\n",
       "      <td>11</td>\n",
       "      <td>15</td>\n",
       "      <td>73.0</td>\n",
       "    </tr>\n",
       "    <tr>\n",
       "      <th>Belgium</th>\n",
       "      <td>2</td>\n",
       "      <td>2</td>\n",
       "      <td>4</td>\n",
       "      <td>50.0</td>\n",
       "    </tr>\n",
       "    <tr>\n",
       "      <th>Greece</th>\n",
       "      <td>2</td>\n",
       "      <td>2</td>\n",
       "      <td>4</td>\n",
       "      <td>50.0</td>\n",
       "    </tr>\n",
       "  </tbody>\n",
       "</table>\n",
       "</div>"
      ],
      "text/plain": [
       "Succeeded      No  Yes  Total  Success Rate\n",
       "Country                                    \n",
       "Canada          1    3      4          75.0\n",
       "United States   2    6      8          75.0\n",
       "France          4   11     15          73.0\n",
       "Belgium         2    2      4          50.0\n",
       "Greece          2    2      4          50.0"
      ]
     },
     "execution_count": 16,
     "metadata": {},
     "output_type": "execute_result"
    }
   ],
   "source": [
    "success_rate_by_country[success_rate_by_country['Total'] >= 4].sort_values(\"Success Rate\",ascending = False)"
   ]
  },
  {
   "cell_type": "markdown",
   "metadata": {},
   "source": [
    "Since countries with only 1 attempt can only have 2 values, 0% and 100%, Countries with 3 can only be 0%, 50%, or 100%, let's average the values and create a line plot."
   ]
  },
  {
   "cell_type": "code",
   "execution_count": 17,
   "metadata": {},
   "outputs": [
    {
     "data": {
      "image/png": "[encoded data removed]",
      "text/plain": [
       "<Figure size 720x504 with 1 Axes>"
      ]
     },
     "metadata": {
      "needs_background": "light"
     },
     "output_type": "display_data"
    }
   ],
   "source": [
    "average_success_by_number_of_attempts = success_rate_by_country.groupby(\"Total\")[\"Success Rate\"].mean()\n",
    "average_success_by_number_of_attempts\n",
    "\n",
    "# Plot\n",
    "average_success_by_number_of_attempts.plot(figsize = (10,7))\n",
    "\n",
    "# Formatting\n",
    "plt.title('Average Success Rate By Number of Attempts Per Country')\n",
    "plt.xlabel('Number of Attempts')\n",
    "plt.ylabel('Percent Successful')\n",
    "plt.ylim(0,100)\n",
    "plt.axhline(percent_successful,color = 'green',label = \"Average Success Rate\")\n",
    "plt.legend()\n",
    "\n",
    "plt.show()"
   ]
  },
  {
   "cell_type": "markdown",
   "metadata": {},
   "source": [
    "As the number of attempts goes up, the success rate oscillates between 85 and 60% before stabilizing around 75%. It would be interesting to see if this would hold with more data.  "
   ]
  },
  {
   "cell_type": "markdown",
   "metadata": {},
   "source": [
    "## Conclusion\n",
    "\n",
    "While helicopter prison escapes are relatively rare, they have taken place on multiple occasions, according to the available data. With 48 attempts documented between 1971 and 2020, these escapes occur sporadically, with varying numbers each year. Although the dataset is limited, we have managed to uncover some intriguing statistics and trends.\n",
    "\n",
    "Two countries, the United States and France, stand out with the highest number of attempts, accounting for more than four each. Furthermore, our analysis indicates that the United States and Canada have a higher likelihood of successful helicopter escapes, with a success rate of 75%. This rate surpasses the overall average success rate of approximately 71%.\n",
    "\n",
    "Examining the success rate based on the number of attempts per country, we observe an interesting pattern. Countries with only one attempt tend to have the highest success rate, averaging around 85%. However, as the number of attempts increases, the success rate initially drops to 58%, before gradually recovering and stabilizing around 75%. Although the data is limited for these higher attempt numbers, this trend suggests that the success rate may converge toward the overall average in a larger dataset.\n",
    "\n",
    "It is important to note that this analysis is based on a relatively small sample size, and the available data may not provide a comprehensive picture of all helicopter prison escapes. The Wikipedia page used as a source acknowledges that the list is incomplete. With more extensive and complete data, we could potentially draw more robust conclusions.\n",
    "\n",
    "In summary, while orchestrating a helicopter escape from prison is undoubtedly challenging, the data suggests that it can be a viable option. With an average success rate of over 70%, these daring attempts demonstrate the determination and ingenuity of those seeking their freedom. Though helicopter escapes have been on the decline since the early 2000s, the recent arrival of relatively inexpensive personal quadcopters on the market will only make them more accessible, so prison officials would do well to analyze data such as this to  prevent and discourage inmates from attempting airborne escapes. "
   ]
  },
  {
   "cell_type": "code",
   "execution_count": null,
   "metadata": {},
   "outputs": [],
   "source": []
  }
 ],
 "metadata": {
  "kernelspec": {
   "display_name": "Python 3",
   "language": "python",
   "name": "python3"
  },
  "language_info": {
   "codemirror_mode": {
    "name": "ipython",
    "version": 3
   },
   "file_extension": ".py",
   "mimetype": "text/x-python",
   "name": "python",
   "nbconvert_exporter": "python",
   "pygments_lexer": "ipython3",
   "version": "3.8.3"
  }
 },
 "nbformat": 4,
 "nbformat_minor": 2
}
