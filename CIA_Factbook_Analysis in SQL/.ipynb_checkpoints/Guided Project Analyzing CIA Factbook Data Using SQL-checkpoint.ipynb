{
 "cells": [
  {
   "cell_type": "markdown",
   "metadata": {},
   "source": [
    "#  Analyzing CIA Factbook Data Using SQL\n",
    "## Introduction\n",
    "\n",
    "In this project, we're interested in finding information about the countries of the world, as presented in the [CIA World Factbook](https://www.cia.gov/the-world-factbook/countries/antarctica/). We will use SQLite in Jupyter Notebook to analyze locally stored data downloaded from this database. The questions we're looking to answer are:\n",
    "\n",
    "1. What are the summary statistics (minimum and maximum populations and minimum and maximum population growth?\n",
    "2. What are the average population and average area of all the countries?\n",
    "3. What countries have above average populations and which have below average areas? \n",
    "4. Which countries have the highest population density?\n",
    "\n",
    "Using SQLite in Jupyter Notebook, we'll query the database to answer the following questions:\n",
    "\n",
    "1. What are the minimum and maximum populations and minimum and maximum population growth rates?\n",
    "2. What are the average population and average area of all the countries?\n",
    "3. What countries have above average populations and which have below average areas? \n",
    "4. Which countries have the highest population density?\n",
    "\n",
    "Before we can do that, we need to connect to our database. "
   ]
  },
  {
   "cell_type": "code",
   "execution_count": 1,
   "metadata": {
    "collapsed": false
   },
   "outputs": [
    {
     "data": {
      "text/plain": [
       "'Connected: None@factbook.db'"
      ]
     },
     "execution_count": 1,
     "metadata": {},
     "output_type": "execute_result"
    }
   ],
   "source": [
    "%%capture \n",
    "%load_ext sql\n",
    "%sql sqlite:///factbook.db\n",
    "        #'Connected: None@factbook.db' indicates success"
   ]
  },
  {
   "cell_type": "markdown",
   "metadata": {},
   "source": [
    "## Overview of the Data\n",
    "Our first step is to get an overview of the data"
   ]
  },
  {
   "cell_type": "code",
   "execution_count": 2,
   "metadata": {
    "collapsed": false
   },
   "outputs": [
    {
     "name": "stdout",
     "output_type": "stream",
     "text": [
      "Done.\n"
     ]
    },
    {
     "data": {
      "text/html": [
       "<table>\n",
       "    <tr>\n",
       "        <th>type</th>\n",
       "        <th>name</th>\n",
       "        <th>tbl_name</th>\n",
       "        <th>rootpage</th>\n",
       "        <th>sql</th>\n",
       "    </tr>\n",
       "    <tr>\n",
       "        <td>table</td>\n",
       "        <td>sqlite_sequence</td>\n",
       "        <td>sqlite_sequence</td>\n",
       "        <td>3</td>\n",
       "        <td>CREATE TABLE sqlite_sequence(name,seq)</td>\n",
       "    </tr>\n",
       "    <tr>\n",
       "        <td>table</td>\n",
       "        <td>facts</td>\n",
       "        <td>facts</td>\n",
       "        <td>47</td>\n",
       "        <td>CREATE TABLE &quot;facts&quot; (&quot;id&quot; INTEGER PRIMARY KEY AUTOINCREMENT NOT NULL, &quot;code&quot; varchar(255) NOT NULL, &quot;name&quot; varchar(255) NOT NULL, &quot;area&quot; integer, &quot;area_land&quot; integer, &quot;area_water&quot; integer, &quot;population&quot; integer, &quot;population_growth&quot; float, &quot;birth_rate&quot; float, &quot;death_rate&quot; float, &quot;migration_rate&quot; float)</td>\n",
       "    </tr>\n",
       "</table>"
      ],
      "text/plain": [
       "[('table', 'sqlite_sequence', 'sqlite_sequence', 3, 'CREATE TABLE sqlite_sequence(name,seq)'),\n",
       " ('table', 'facts', 'facts', 47, 'CREATE TABLE \"facts\" (\"id\" INTEGER PRIMARY KEY AUTOINCREMENT NOT NULL, \"code\" varchar(255) NOT NULL, \"name\" varchar(255) NOT NULL, \"area\" integer, \"a ... (4 characters truncated) ... land\" integer, \"area_water\" integer, \"population\" integer, \"population_growth\" float, \"birth_rate\" float, \"death_rate\" float, \"migration_rate\" float)')]"
      ]
     },
     "execution_count": 2,
     "metadata": {},
     "output_type": "execute_result"
    }
   ],
   "source": [
    "%%sql\n",
    "SELECT *\n",
    "FROM sqlite_master\n",
    "WHERE type='table';"
   ]
  },
  {
   "cell_type": "markdown",
   "metadata": {},
   "source": [
    "We have a fairly simple database. The SQLite internal table sqlite_sequence is used to store information about SQLite: autoincrement columns. This means we only have one data table, called \"facts\".  Let's take a look at the first five rows of the facts table."
   ]
  },
  {
   "cell_type": "code",
   "execution_count": 3,
   "metadata": {
    "collapsed": false
   },
   "outputs": [
    {
     "name": "stdout",
     "output_type": "stream",
     "text": [
      "Done.\n"
     ]
    },
    {
     "data": {
      "text/html": [
       "<table>\n",
       "    <tr>\n",
       "        <th>id</th>\n",
       "        <th>code</th>\n",
       "        <th>name</th>\n",
       "        <th>area</th>\n",
       "        <th>area_land</th>\n",
       "        <th>area_water</th>\n",
       "        <th>population</th>\n",
       "        <th>population_growth</th>\n",
       "        <th>birth_rate</th>\n",
       "        <th>death_rate</th>\n",
       "        <th>migration_rate</th>\n",
       "    </tr>\n",
       "    <tr>\n",
       "        <td>1</td>\n",
       "        <td>af</td>\n",
       "        <td>Afghanistan</td>\n",
       "        <td>652230</td>\n",
       "        <td>652230</td>\n",
       "        <td>0</td>\n",
       "        <td>32564342</td>\n",
       "        <td>2.32</td>\n",
       "        <td>38.57</td>\n",
       "        <td>13.89</td>\n",
       "        <td>1.51</td>\n",
       "    </tr>\n",
       "    <tr>\n",
       "        <td>2</td>\n",
       "        <td>al</td>\n",
       "        <td>Albania</td>\n",
       "        <td>28748</td>\n",
       "        <td>27398</td>\n",
       "        <td>1350</td>\n",
       "        <td>3029278</td>\n",
       "        <td>0.3</td>\n",
       "        <td>12.92</td>\n",
       "        <td>6.58</td>\n",
       "        <td>3.3</td>\n",
       "    </tr>\n",
       "    <tr>\n",
       "        <td>3</td>\n",
       "        <td>ag</td>\n",
       "        <td>Algeria</td>\n",
       "        <td>2381741</td>\n",
       "        <td>2381741</td>\n",
       "        <td>0</td>\n",
       "        <td>39542166</td>\n",
       "        <td>1.84</td>\n",
       "        <td>23.67</td>\n",
       "        <td>4.31</td>\n",
       "        <td>0.92</td>\n",
       "    </tr>\n",
       "    <tr>\n",
       "        <td>4</td>\n",
       "        <td>an</td>\n",
       "        <td>Andorra</td>\n",
       "        <td>468</td>\n",
       "        <td>468</td>\n",
       "        <td>0</td>\n",
       "        <td>85580</td>\n",
       "        <td>0.12</td>\n",
       "        <td>8.13</td>\n",
       "        <td>6.96</td>\n",
       "        <td>0.0</td>\n",
       "    </tr>\n",
       "    <tr>\n",
       "        <td>5</td>\n",
       "        <td>ao</td>\n",
       "        <td>Angola</td>\n",
       "        <td>1246700</td>\n",
       "        <td>1246700</td>\n",
       "        <td>0</td>\n",
       "        <td>19625353</td>\n",
       "        <td>2.78</td>\n",
       "        <td>38.78</td>\n",
       "        <td>11.49</td>\n",
       "        <td>0.46</td>\n",
       "    </tr>\n",
       "</table>"
      ],
      "text/plain": [
       "[(1, 'af', 'Afghanistan', 652230, 652230, 0, 32564342, 2.32, 38.57, 13.89, 1.51),\n",
       " (2, 'al', 'Albania', 28748, 27398, 1350, 3029278, 0.3, 12.92, 6.58, 3.3),\n",
       " (3, 'ag', 'Algeria', 2381741, 2381741, 0, 39542166, 1.84, 23.67, 4.31, 0.92),\n",
       " (4, 'an', 'Andorra', 468, 468, 0, 85580, 0.12, 8.13, 6.96, 0.0),\n",
       " (5, 'ao', 'Angola', 1246700, 1246700, 0, 19625353, 2.78, 38.78, 11.49, 0.46)]"
      ]
     },
     "execution_count": 3,
     "metadata": {},
     "output_type": "execute_result"
    }
   ],
   "source": [
    "%%sql\n",
    "SELECT * \n",
    "FROM facts\n",
    "LIMIT 5"
   ]
  },
  {
   "cell_type": "markdown",
   "metadata": {},
   "source": [
    "There are a total of 11 columns.  The ones of most interest to us for our queries are:\n",
    "\n",
    "- area— the country's total area (both land and water).\n",
    "- area_land — the country's land area in square kilometers.\n",
    "- area_water — the country's waterarea in square kilometers.\n",
    "- population — the country's population.\n",
    "- population_growth— the country's population growth as a percentage.\n",
    "- birth_rate — the country's birth rate, or the number of births per year per 1,000 people.\n",
    "- death_rate — the country's death rate, or the number of death per year per 1,000 people.\n",
    "\n",
    "With this knowledge, we can now begin our analysis."
   ]
  },
  {
   "cell_type": "markdown",
   "metadata": {},
   "source": [
    "## Summary Statistics\n",
    "\n",
    "Our first analysis step will be to find and calculate some summary statistics, namely the minimum and maximum populations and minimum and maximum population growth."
   ]
  },
  {
   "cell_type": "code",
   "execution_count": 4,
   "metadata": {
    "collapsed": false
   },
   "outputs": [
    {
     "name": "stdout",
     "output_type": "stream",
     "text": [
      "Done.\n"
     ]
    },
    {
     "data": {
      "text/html": [
       "<table>\n",
       "    <tr>\n",
       "        <th>minimum_pop</th>\n",
       "        <th>max_pop</th>\n",
       "        <th>min_pop_growth</th>\n",
       "        <th>max_pop_growth</th>\n",
       "    </tr>\n",
       "    <tr>\n",
       "        <td>0</td>\n",
       "        <td>7256490011</td>\n",
       "        <td>0.0</td>\n",
       "        <td>4.02</td>\n",
       "    </tr>\n",
       "</table>"
      ],
      "text/plain": [
       "[(0, 7256490011, 0.0, 4.02)]"
      ]
     },
     "execution_count": 4,
     "metadata": {},
     "output_type": "execute_result"
    }
   ],
   "source": [
    "%%sql\n",
    "SELECT MIN(population) AS minimum_pop, \n",
    "    MAX(population) AS max_pop, \n",
    "    MIN(population_growth) AS min_pop_growth,\n",
    "    MAX(population_growth) AS max_pop_growth\n",
    "FROM facts"
   ]
  },
  {
   "cell_type": "markdown",
   "metadata": {},
   "source": [
    "We have a country with zero population and one with a populaton of 7.25 Billion (the approximate population of the world).  Let's take a look at the countries with the highest and lowest populations"
   ]
  },
  {
   "cell_type": "code",
   "execution_count": 5,
   "metadata": {
    "collapsed": false
   },
   "outputs": [
    {
     "name": "stdout",
     "output_type": "stream",
     "text": [
      "Done.\n"
     ]
    },
    {
     "data": {
      "text/html": [
       "<table>\n",
       "    <tr>\n",
       "        <th>name</th>\n",
       "        <th>population</th>\n",
       "    </tr>\n",
       "    <tr>\n",
       "        <td>World</td>\n",
       "        <td>7256490011</td>\n",
       "    </tr>\n",
       "    <tr>\n",
       "        <td>China</td>\n",
       "        <td>1367485388</td>\n",
       "    </tr>\n",
       "    <tr>\n",
       "        <td>India</td>\n",
       "        <td>1251695584</td>\n",
       "    </tr>\n",
       "    <tr>\n",
       "        <td>European Union</td>\n",
       "        <td>513949445</td>\n",
       "    </tr>\n",
       "    <tr>\n",
       "        <td>United States</td>\n",
       "        <td>321368864</td>\n",
       "    </tr>\n",
       "</table>"
      ],
      "text/plain": [
       "[('World', 7256490011),\n",
       " ('China', 1367485388),\n",
       " ('India', 1251695584),\n",
       " ('European Union', 513949445),\n",
       " ('United States', 321368864)]"
      ]
     },
     "execution_count": 5,
     "metadata": {},
     "output_type": "execute_result"
    }
   ],
   "source": [
    "%%sql\n",
    "SELECT name, population\n",
    "FROM facts\n",
    "ORDER BY population\n",
    "DESC\n",
    "LIMIT 5\n"
   ]
  },
  {
   "cell_type": "markdown",
   "metadata": {},
   "source": [
    "As suspected, there is a row for the population of the entire world.  We'll have to take that into consideration for our query.  Now let's take a look at the areas with the lowest populations."
   ]
  },
  {
   "cell_type": "code",
   "execution_count": 6,
   "metadata": {
    "collapsed": false
   },
   "outputs": [
    {
     "name": "stdout",
     "output_type": "stream",
     "text": [
      "Done.\n"
     ]
    },
    {
     "data": {
      "text/html": [
       "<table>\n",
       "    <tr>\n",
       "        <th>name</th>\n",
       "        <th>population</th>\n",
       "    </tr>\n",
       "    <tr>\n",
       "        <td>Ashmore and Cartier Islands</td>\n",
       "        <td>None</td>\n",
       "    </tr>\n",
       "    <tr>\n",
       "        <td>Coral Sea Islands</td>\n",
       "        <td>None</td>\n",
       "    </tr>\n",
       "    <tr>\n",
       "        <td>Heard Island and McDonald Islands</td>\n",
       "        <td>None</td>\n",
       "    </tr>\n",
       "    <tr>\n",
       "        <td>Clipperton Island</td>\n",
       "        <td>None</td>\n",
       "    </tr>\n",
       "    <tr>\n",
       "        <td>French Southern and Antarctic Lands</td>\n",
       "        <td>None</td>\n",
       "    </tr>\n",
       "    <tr>\n",
       "        <td>Bouvet Island</td>\n",
       "        <td>None</td>\n",
       "    </tr>\n",
       "    <tr>\n",
       "        <td>Jan Mayen</td>\n",
       "        <td>None</td>\n",
       "    </tr>\n",
       "    <tr>\n",
       "        <td>British Indian Ocean Territory</td>\n",
       "        <td>None</td>\n",
       "    </tr>\n",
       "    <tr>\n",
       "        <td>South Georgia and South Sandwich Islands</td>\n",
       "        <td>None</td>\n",
       "    </tr>\n",
       "    <tr>\n",
       "        <td>Navassa Island</td>\n",
       "        <td>None</td>\n",
       "    </tr>\n",
       "    <tr>\n",
       "        <td>Wake Island</td>\n",
       "        <td>None</td>\n",
       "    </tr>\n",
       "    <tr>\n",
       "        <td>United States Pacific Island Wildlife Refuges</td>\n",
       "        <td>None</td>\n",
       "    </tr>\n",
       "    <tr>\n",
       "        <td>Paracel Islands</td>\n",
       "        <td>None</td>\n",
       "    </tr>\n",
       "    <tr>\n",
       "        <td>Spratly Islands</td>\n",
       "        <td>None</td>\n",
       "    </tr>\n",
       "    <tr>\n",
       "        <td>Arctic Ocean</td>\n",
       "        <td>None</td>\n",
       "    </tr>\n",
       "    <tr>\n",
       "        <td>Atlantic Ocean</td>\n",
       "        <td>None</td>\n",
       "    </tr>\n",
       "    <tr>\n",
       "        <td>Indian Ocean</td>\n",
       "        <td>None</td>\n",
       "    </tr>\n",
       "    <tr>\n",
       "        <td>Pacific Ocean</td>\n",
       "        <td>None</td>\n",
       "    </tr>\n",
       "    <tr>\n",
       "        <td>Southern Ocean</td>\n",
       "        <td>None</td>\n",
       "    </tr>\n",
       "    <tr>\n",
       "        <td>Antarctica</td>\n",
       "        <td>0</td>\n",
       "    </tr>\n",
       "    <tr>\n",
       "        <td>Pitcairn Islands</td>\n",
       "        <td>48</td>\n",
       "    </tr>\n",
       "</table>"
      ],
      "text/plain": [
       "[('Ashmore and Cartier Islands', None),\n",
       " ('Coral Sea Islands', None),\n",
       " ('Heard Island and McDonald Islands', None),\n",
       " ('Clipperton Island', None),\n",
       " ('French Southern and Antarctic Lands', None),\n",
       " ('Bouvet Island', None),\n",
       " ('Jan Mayen', None),\n",
       " ('British Indian Ocean Territory', None),\n",
       " ('South Georgia and South Sandwich Islands', None),\n",
       " ('Navassa Island', None),\n",
       " ('Wake Island', None),\n",
       " ('United States Pacific Island Wildlife Refuges', None),\n",
       " ('Paracel Islands', None),\n",
       " ('Spratly Islands', None),\n",
       " ('Arctic Ocean', None),\n",
       " ('Atlantic Ocean', None),\n",
       " ('Indian Ocean', None),\n",
       " ('Pacific Ocean', None),\n",
       " ('Southern Ocean', None),\n",
       " ('Antarctica', 0),\n",
       " ('Pitcairn Islands', 48)]"
      ]
     },
     "execution_count": 6,
     "metadata": {},
     "output_type": "execute_result"
    }
   ],
   "source": [
    "%%sql\n",
    "SELECT name, population\n",
    "FROM facts\n",
    "ORDER BY population\n",
    "LIMIT 21  --Need 21 rows to get the first row with any population"
   ]
  },
  {
   "cell_type": "markdown",
   "metadata": {},
   "source": [
    "The data include several rows with \"None\" for population.  These include oceans, which make sense as no one is a citizen of the ocean, and several island chains. According to the CIA Factbook pages for several of these islands, they are all uninhabited or only house temporary research personnel.  \n",
    "\n",
    "There is also one row with zero population, which is Antartica.  the CIA Factbook page for Antartica shows a similar status to the islands: \n",
    ">53 countries have signed the 1959 Antarctic Treaty; 30 of those operate through their National Antarctic Program a number of seasonal-only (summer) and year-round research stations on the continent and its nearby islands south of 60 degrees south latitude (the region covered by the Antarctic Treaty); the population engaging in and supporting science or managing and protecting the Antarctic region varies from approximately 4,400 in summer to 1,100 in winter; in addition, approximately 1,000 personnel, including ship's crew and scientists doing onboard research, are present in the waters of the treaty region.\n",
    "\n",
    "Now that we know about the rows with the world and zero populations,we can exclude all of these rows to find the actual countries with the highest and lowest populations."
   ]
  },
  {
   "cell_type": "markdown",
   "metadata": {
    "collapsed": false
   },
   "source": [
    "##Orig code\n",
    "%%sql\n",
    "SELECT MIN(population) AS minimum_pop, \n",
    "    MAX(population) AS max_pop, \n",
    "    MIN(population_growth) AS min_pop_growth,\n",
    "    MAX(population_growth) AS max_pop_growth\n",
    "FROM facts\n",
    "    WHERE population != (SELECT \n",
    "                    MAX(population) \n",
    "                    FROM facts)\n",
    "                AND \n",
    "    population != (SELECT \n",
    "                    MIN(population) --Null values excluded by default\n",
    "                    FROM facts)"
   ]
  },
  {
   "cell_type": "code",
   "execution_count": 19,
   "metadata": {
    "collapsed": false
   },
   "outputs": [
    {
     "name": "stdout",
     "output_type": "stream",
     "text": [
      "Done.\n"
     ]
    },
    {
     "data": {
      "text/html": [
       "<table>\n",
       "    <tr>\n",
       "        <th>name</th>\n",
       "        <th>max(population)</th>\n",
       "    </tr>\n",
       "    <tr>\n",
       "        <td>China</td>\n",
       "        <td>1367485388</td>\n",
       "    </tr>\n",
       "</table>"
      ],
      "text/plain": [
       "[('China', 1367485388)]"
      ]
     },
     "execution_count": 19,
     "metadata": {},
     "output_type": "execute_result"
    }
   ],
   "source": [
    "%%sql\n",
    "SELECT name, max(population) as max_population\n",
    "FROM facts\n",
    "WHERE name != \"World\";"
   ]
  },
  {
   "cell_type": "code",
   "execution_count": 22,
   "metadata": {
    "collapsed": false
   },
   "outputs": [
    {
     "name": "stdout",
     "output_type": "stream",
     "text": [
      "Done.\n"
     ]
    },
    {
     "data": {
      "text/html": [
       "<table>\n",
       "    <tr>\n",
       "        <th>name</th>\n",
       "        <th>min(population)</th>\n",
       "    </tr>\n",
       "    <tr>\n",
       "        <td>Pitcairn Islands</td>\n",
       "        <td>48</td>\n",
       "    </tr>\n",
       "</table>"
      ],
      "text/plain": [
       "[('Pitcairn Islands', 48)]"
      ]
     },
     "execution_count": 22,
     "metadata": {},
     "output_type": "execute_result"
    }
   ],
   "source": [
    "%%sql\n",
    "SELECT name, min(population)\n",
    "FROM facts\n",
    "WHERE population > 0;"
   ]
  },
  {
   "cell_type": "code",
   "execution_count": 28,
   "metadata": {
    "collapsed": false
   },
   "outputs": [
    {
     "name": "stdout",
     "output_type": "stream",
     "text": [
      "Done.\n"
     ]
    },
    {
     "data": {
      "text/html": [
       "<table>\n",
       "    <tr>\n",
       "        <th>name</th>\n",
       "        <th>max(population_growth)</th>\n",
       "    </tr>\n",
       "    <tr>\n",
       "        <td>South Sudan</td>\n",
       "        <td>4.02</td>\n",
       "    </tr>\n",
       "</table>"
      ],
      "text/plain": [
       "[('South Sudan', 4.02)]"
      ]
     },
     "execution_count": 28,
     "metadata": {},
     "output_type": "execute_result"
    }
   ],
   "source": [
    "%%sql\n",
    "SELECT name, max(population_growth) as max_population_growth\n",
    "FROM facts\n",
    "WHERE name != \"World\" AND population >0;"
   ]
  },
  {
   "cell_type": "code",
   "execution_count": 31,
   "metadata": {
    "collapsed": false
   },
   "outputs": [
    {
     "name": "stdout",
     "output_type": "stream",
     "text": [
      "Done.\n"
     ]
    },
    {
     "data": {
      "text/html": [
       "<table>\n",
       "    <tr>\n",
       "        <th>name</th>\n",
       "        <th>min_population_growth</th>\n",
       "    </tr>\n",
       "    <tr>\n",
       "        <td>Holy See (Vatican City)</td>\n",
       "        <td>0.0</td>\n",
       "    </tr>\n",
       "</table>"
      ],
      "text/plain": [
       "[('Holy See (Vatican City)', 0.0)]"
      ]
     },
     "execution_count": 31,
     "metadata": {},
     "output_type": "execute_result"
    }
   ],
   "source": [
    "%%sql\n",
    "SELECT name, min(population_growth) as min_population_growth\n",
    "FROM facts\n",
    "WHERE name != \"World\" AND population >0;"
   ]
  },
  {
   "cell_type": "markdown",
   "metadata": {},
   "source": [
    "These numbers look much better, but we still have at least one country with zero growth.  Let's take a deeper look at that. "
   ]
  },
  {
   "cell_type": "code",
   "execution_count": 8,
   "metadata": {
    "collapsed": false
   },
   "outputs": [
    {
     "name": "stdout",
     "output_type": "stream",
     "text": [
      "Done.\n"
     ]
    },
    {
     "data": {
      "text/html": [
       "<table>\n",
       "    <tr>\n",
       "        <th>id</th>\n",
       "        <th>code</th>\n",
       "        <th>name</th>\n",
       "        <th>area</th>\n",
       "        <th>area_land</th>\n",
       "        <th>area_water</th>\n",
       "        <th>population</th>\n",
       "        <th>population_growth</th>\n",
       "        <th>birth_rate</th>\n",
       "        <th>death_rate</th>\n",
       "        <th>migration_rate</th>\n",
       "    </tr>\n",
       "    <tr>\n",
       "        <td>190</td>\n",
       "        <td>vt</td>\n",
       "        <td>Holy See (Vatican City)</td>\n",
       "        <td>0</td>\n",
       "        <td>0</td>\n",
       "        <td>0</td>\n",
       "        <td>842</td>\n",
       "        <td>0.0</td>\n",
       "        <td>None</td>\n",
       "        <td>None</td>\n",
       "        <td>None</td>\n",
       "    </tr>\n",
       "    <tr>\n",
       "        <td>200</td>\n",
       "        <td>ck</td>\n",
       "        <td>Cocos (Keeling) Islands</td>\n",
       "        <td>14</td>\n",
       "        <td>14</td>\n",
       "        <td>0</td>\n",
       "        <td>596</td>\n",
       "        <td>0.0</td>\n",
       "        <td>None</td>\n",
       "        <td>None</td>\n",
       "        <td>None</td>\n",
       "    </tr>\n",
       "    <tr>\n",
       "        <td>207</td>\n",
       "        <td>gl</td>\n",
       "        <td>Greenland</td>\n",
       "        <td>2166086</td>\n",
       "        <td>2166086</td>\n",
       "        <td>None</td>\n",
       "        <td>57733</td>\n",
       "        <td>0.0</td>\n",
       "        <td>14.48</td>\n",
       "        <td>8.49</td>\n",
       "        <td>5.98</td>\n",
       "    </tr>\n",
       "    <tr>\n",
       "        <td>238</td>\n",
       "        <td>pc</td>\n",
       "        <td>Pitcairn Islands</td>\n",
       "        <td>47</td>\n",
       "        <td>47</td>\n",
       "        <td>0</td>\n",
       "        <td>48</td>\n",
       "        <td>0.0</td>\n",
       "        <td>None</td>\n",
       "        <td>None</td>\n",
       "        <td>None</td>\n",
       "    </tr>\n",
       "</table>"
      ],
      "text/plain": [
       "[(190, 'vt', 'Holy See (Vatican City)', 0, 0, 0, 842, 0.0, None, None, None),\n",
       " (200, 'ck', 'Cocos (Keeling) Islands', 14, 14, 0, 596, 0.0, None, None, None),\n",
       " (207, 'gl', 'Greenland', 2166086, 2166086, None, 57733, 0.0, 14.48, 8.49, 5.98),\n",
       " (238, 'pc', 'Pitcairn Islands', 47, 47, 0, 48, 0.0, None, None, None)]"
      ]
     },
     "execution_count": 8,
     "metadata": {},
     "output_type": "execute_result"
    }
   ],
   "source": [
    "%%sql\n",
    "SELECT * \n",
    "FROM facts \n",
    "WHERE population_growth = (SELECT \n",
    "                    MIN(population_growth) \n",
    "                    FROM facts)"
   ]
  },
  {
   "cell_type": "markdown",
   "metadata": {},
   "source": [
    "We have 2 small islands with very small populations. It makes sense that the populations would not fluctuate much.  The third \"country\" is Vatican city.  As it's controlled by the Catholic Church, they can maintain the population so it would not necessarily be prone to normal population influences.  The final country is Greenland.  According to the Factbook, the birth rate is approximately 13.79 per 1000 people.  This is balanced by the death rate of 8.96 per 1000 and immigration rate of -5.07 (14.03 total) for a net of -.24 people per 1000.  It seems unlikely that the population is exactly the same from year to year, but accounting for polling methods, statistical errors and rounding, the number is about right."
   ]
  },
  {
   "cell_type": "markdown",
   "metadata": {},
   "source": [
    "## Exploring Average Population and Area\n",
    "\n",
    "We now turn our analysis to the average populations and land area of Earth's countries. We don't want to include Antartica or the whole world in this either, so we'll exclude them again."
   ]
  },
  {
   "cell_type": "code",
   "execution_count": 33,
   "metadata": {
    "collapsed": false
   },
   "outputs": [
    {
     "name": "stdout",
     "output_type": "stream",
     "text": [
      "Done.\n"
     ]
    },
    {
     "data": {
      "text/html": [
       "<table>\n",
       "    <tr>\n",
       "        <th>avg_pop</th>\n",
       "        <th>avg_area_land</th>\n",
       "    </tr>\n",
       "    <tr>\n",
       "        <td>32377011.01</td>\n",
       "        <td>550643.76</td>\n",
       "    </tr>\n",
       "</table>"
      ],
      "text/plain": [
       "[(32377011.01, 550643.76)]"
      ]
     },
     "execution_count": 33,
     "metadata": {},
     "output_type": "execute_result"
    }
   ],
   "source": [
    "%%sql\n",
    "SELECT ROUND(AVG(population),2) AS avg_pop, \n",
    "        ROUND(AVG(area_land),2) AS avg_area_land\n",
    "FROM facts\n",
    "    WHERE population != (SELECT --exclude row with world population\n",
    "                    MAX(population) \n",
    "                    FROM facts)\n",
    "                AND \n",
    "    population != (SELECT      --Exclude Zero population (Antartica) and Null by default\n",
    "                    MIN(population) \n",
    "                    FROM facts)"
   ]
  },
  {
   "cell_type": "markdown",
   "metadata": {},
   "source": [
    "## Finding Densely Populated Countries\n",
    "\n",
    "Our final analysis step will be to find the most densely populated countries in the world.  To do this, we'll look for countries with populations higher than the average and land areas lower than the average. "
   ]
  },
  {
   "cell_type": "code",
   "execution_count": 10,
   "metadata": {
    "collapsed": false
   },
   "outputs": [
    {
     "name": "stdout",
     "output_type": "stream",
     "text": [
      "Done.\n"
     ]
    },
    {
     "data": {
      "text/html": [
       "<table>\n",
       "    <tr>\n",
       "        <th>name</th>\n",
       "        <th>population</th>\n",
       "        <th>area_land</th>\n",
       "        <th>population_density</th>\n",
       "    </tr>\n",
       "    <tr>\n",
       "        <td>Bangladesh</td>\n",
       "        <td>168957745</td>\n",
       "        <td>130170</td>\n",
       "        <td>1297</td>\n",
       "    </tr>\n",
       "    <tr>\n",
       "        <td>Japan</td>\n",
       "        <td>126919659</td>\n",
       "        <td>364485</td>\n",
       "        <td>348</td>\n",
       "    </tr>\n",
       "    <tr>\n",
       "        <td>Philippines</td>\n",
       "        <td>100998376</td>\n",
       "        <td>298170</td>\n",
       "        <td>338</td>\n",
       "    </tr>\n",
       "    <tr>\n",
       "        <td>Vietnam</td>\n",
       "        <td>94348835</td>\n",
       "        <td>310070</td>\n",
       "        <td>304</td>\n",
       "    </tr>\n",
       "    <tr>\n",
       "        <td>United Kingdom</td>\n",
       "        <td>64088222</td>\n",
       "        <td>241930</td>\n",
       "        <td>264</td>\n",
       "    </tr>\n",
       "    <tr>\n",
       "        <td>Germany</td>\n",
       "        <td>80854408</td>\n",
       "        <td>348672</td>\n",
       "        <td>231</td>\n",
       "    </tr>\n",
       "    <tr>\n",
       "        <td>Thailand</td>\n",
       "        <td>67976405</td>\n",
       "        <td>510890</td>\n",
       "        <td>133</td>\n",
       "    </tr>\n",
       "</table>"
      ],
      "text/plain": [
       "[('Bangladesh', 168957745, 130170, 1297),\n",
       " ('Japan', 126919659, 364485, 348),\n",
       " ('Philippines', 100998376, 298170, 338),\n",
       " ('Vietnam', 94348835, 310070, 304),\n",
       " ('United Kingdom', 64088222, 241930, 264),\n",
       " ('Germany', 80854408, 348672, 231),\n",
       " ('Thailand', 67976405, 510890, 133)]"
      ]
     },
     "execution_count": 10,
     "metadata": {},
     "output_type": "execute_result"
    }
   ],
   "source": [
    "%%sql\n",
    "SELECT name, population, area_land, population/area_land AS population_density\n",
    "FROM facts\n",
    "WHERE population > (SELECT AVG(population)\n",
    "                   FROM facts)\n",
    "    AND\n",
    "    area_land < (SELECT AVG(area_land)\n",
    "                FROM facts)\n",
    "ORDER BY population_density\n",
    "DESC"
   ]
  },
  {
   "cell_type": "markdown",
   "metadata": {},
   "source": [
    "   The drawback to this method is that it might exclude countries where the population is lower than average but has an extremely small land area or the land area is above average and the population is still very high. A quick search online for population densities shows that Bangladesh actually ranks around 10th in the world.  Let's see what happens when we don't limit our analysis based on average population and area."
   ]
  },
  {
   "cell_type": "code",
   "execution_count": 11,
   "metadata": {
    "collapsed": false
   },
   "outputs": [
    {
     "name": "stdout",
     "output_type": "stream",
     "text": [
      "Done.\n"
     ]
    },
    {
     "data": {
      "text/html": [
       "<table>\n",
       "    <tr>\n",
       "        <th>name</th>\n",
       "        <th>population</th>\n",
       "        <th>area_land</th>\n",
       "        <th>population_density</th>\n",
       "    </tr>\n",
       "    <tr>\n",
       "        <td>Macau</td>\n",
       "        <td>592731</td>\n",
       "        <td>28</td>\n",
       "        <td>21168</td>\n",
       "    </tr>\n",
       "    <tr>\n",
       "        <td>Monaco</td>\n",
       "        <td>30535</td>\n",
       "        <td>2</td>\n",
       "        <td>15267</td>\n",
       "    </tr>\n",
       "    <tr>\n",
       "        <td>Singapore</td>\n",
       "        <td>5674472</td>\n",
       "        <td>687</td>\n",
       "        <td>8259</td>\n",
       "    </tr>\n",
       "    <tr>\n",
       "        <td>Hong Kong</td>\n",
       "        <td>7141106</td>\n",
       "        <td>1073</td>\n",
       "        <td>6655</td>\n",
       "    </tr>\n",
       "    <tr>\n",
       "        <td>Gaza Strip</td>\n",
       "        <td>1869055</td>\n",
       "        <td>360</td>\n",
       "        <td>5191</td>\n",
       "    </tr>\n",
       "    <tr>\n",
       "        <td>Gibraltar</td>\n",
       "        <td>29258</td>\n",
       "        <td>6</td>\n",
       "        <td>4876</td>\n",
       "    </tr>\n",
       "    <tr>\n",
       "        <td>Bahrain</td>\n",
       "        <td>1346613</td>\n",
       "        <td>760</td>\n",
       "        <td>1771</td>\n",
       "    </tr>\n",
       "    <tr>\n",
       "        <td>Maldives</td>\n",
       "        <td>393253</td>\n",
       "        <td>298</td>\n",
       "        <td>1319</td>\n",
       "    </tr>\n",
       "    <tr>\n",
       "        <td>Malta</td>\n",
       "        <td>413965</td>\n",
       "        <td>316</td>\n",
       "        <td>1310</td>\n",
       "    </tr>\n",
       "    <tr>\n",
       "        <td>Bermuda</td>\n",
       "        <td>70196</td>\n",
       "        <td>54</td>\n",
       "        <td>1299</td>\n",
       "    </tr>\n",
       "    <tr>\n",
       "        <td>Bangladesh</td>\n",
       "        <td>168957745</td>\n",
       "        <td>130170</td>\n",
       "        <td>1297</td>\n",
       "    </tr>\n",
       "    <tr>\n",
       "        <td>Sint Maarten</td>\n",
       "        <td>39689</td>\n",
       "        <td>34</td>\n",
       "        <td>1167</td>\n",
       "    </tr>\n",
       "    <tr>\n",
       "        <td>Guernsey</td>\n",
       "        <td>66080</td>\n",
       "        <td>78</td>\n",
       "        <td>847</td>\n",
       "    </tr>\n",
       "    <tr>\n",
       "        <td>Jersey</td>\n",
       "        <td>97294</td>\n",
       "        <td>116</td>\n",
       "        <td>838</td>\n",
       "    </tr>\n",
       "    <tr>\n",
       "        <td>Taiwan</td>\n",
       "        <td>23415126</td>\n",
       "        <td>32260</td>\n",
       "        <td>725</td>\n",
       "    </tr>\n",
       "    <tr>\n",
       "        <td>Barbados</td>\n",
       "        <td>290604</td>\n",
       "        <td>430</td>\n",
       "        <td>675</td>\n",
       "    </tr>\n",
       "    <tr>\n",
       "        <td>Mauritius</td>\n",
       "        <td>1339827</td>\n",
       "        <td>2030</td>\n",
       "        <td>660</td>\n",
       "    </tr>\n",
       "    <tr>\n",
       "        <td>Aruba</td>\n",
       "        <td>112162</td>\n",
       "        <td>180</td>\n",
       "        <td>623</td>\n",
       "    </tr>\n",
       "    <tr>\n",
       "        <td>Lebanon</td>\n",
       "        <td>6184701</td>\n",
       "        <td>10230</td>\n",
       "        <td>604</td>\n",
       "    </tr>\n",
       "    <tr>\n",
       "        <td>Saint Martin</td>\n",
       "        <td>31754</td>\n",
       "        <td>54</td>\n",
       "        <td>588</td>\n",
       "    </tr>\n",
       "</table>"
      ],
      "text/plain": [
       "[('Macau', 592731, 28, 21168),\n",
       " ('Monaco', 30535, 2, 15267),\n",
       " ('Singapore', 5674472, 687, 8259),\n",
       " ('Hong Kong', 7141106, 1073, 6655),\n",
       " ('Gaza Strip', 1869055, 360, 5191),\n",
       " ('Gibraltar', 29258, 6, 4876),\n",
       " ('Bahrain', 1346613, 760, 1771),\n",
       " ('Maldives', 393253, 298, 1319),\n",
       " ('Malta', 413965, 316, 1310),\n",
       " ('Bermuda', 70196, 54, 1299),\n",
       " ('Bangladesh', 168957745, 130170, 1297),\n",
       " ('Sint Maarten', 39689, 34, 1167),\n",
       " ('Guernsey', 66080, 78, 847),\n",
       " ('Jersey', 97294, 116, 838),\n",
       " ('Taiwan', 23415126, 32260, 725),\n",
       " ('Barbados', 290604, 430, 675),\n",
       " ('Mauritius', 1339827, 2030, 660),\n",
       " ('Aruba', 112162, 180, 623),\n",
       " ('Lebanon', 6184701, 10230, 604),\n",
       " ('Saint Martin', 31754, 54, 588)]"
      ]
     },
     "execution_count": 11,
     "metadata": {},
     "output_type": "execute_result"
    }
   ],
   "source": [
    "%%sql\n",
    "SELECT name, population, area_land, population/area_land AS population_density\n",
    "FROM facts\n",
    "ORDER BY population_density\n",
    "DESC\n",
    "LIMIT 20"
   ]
  },
  {
   "cell_type": "markdown",
   "metadata": {},
   "source": [
    "Now Bangladesh, which was our highest density country is actually 11th.  This lines up with the results of our search.  Now Macau appears to be the country with the highest population at 21168 people per square kilometer, which also matches our online findings. "
   ]
  },
  {
   "cell_type": "markdown",
   "metadata": {},
   "source": [
    "# Conclusion\n",
    "\n",
    "In this analysis, we reviewed some basic statistics about the countries of the world based on the CIA World Factbook.  Due to some quirks of the data such as \"countries\" with zero population and an entry for the entire world, we had to mainipulate our queries a bit, but in the end we were able to answer all of the questions about the countries having the highest and lowest populations and population densities. \n",
    "\n",
    "With 48 occupants, the Pitcairn Islands came in as the country with the lowest population.  Unsurprizingly, the country with the highest population is China at 1,367,485,388 people.  Turning to population growth, we actually found that Greenland has approximately zero growth and dug a little deeper into that to verify such an unexpected result.  Showing the highest growth rate was South Sudan 4.02 people per 1000. \n",
    "\n",
    "For our last question, we wanted to find countries that had the highest population.  We looked at this in 2 ways. First, we found the average population and land areas (still excluding the rows with the world and zero populations).  The average population came out to 32,377,011 people and the average land area is 550643.76 sqare km.   looking at countries with above average populations and below average land areas, Bangladesh appeared to be the highest density country with 1297 people per square kilometer. This methid turned out to be flawed, however, as it exclueded countries with below average populations but extremely small land area and countries with larger than average land area and very high populations. Removing the restrictions we found that the highest density is actually Macau with 21168 people per square kilometer. \n",
    "\n"
   ]
  },
  {
   "cell_type": "code",
   "execution_count": null,
   "metadata": {
    "collapsed": true
   },
   "outputs": [],
   "source": []
  }
 ],
 "metadata": {
  "kernelspec": {
   "display_name": "Python 3",
   "language": "python",
   "name": "python3"
  },
  "language_info": {
   "codemirror_mode": {
    "name": "ipython",
    "version": 3
   },
   "file_extension": ".py",
   "mimetype": "text/x-python",
   "name": "python",
   "nbconvert_exporter": "python",
   "pygments_lexer": "ipython3",
   "version": "3.4.3"
  }
 },
 "nbformat": 4,
 "nbformat_minor": 2
}
